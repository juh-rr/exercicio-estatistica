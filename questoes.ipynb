{
 "cells": [
  {
   "cell_type": "code",
   "execution_count": 2,
   "metadata": {},
   "outputs": [],
   "source": [
    "### bibliotecas base\n",
    "import pandas as pd\n",
    "import numpy as np\n",
    "### bibliotecas para visualizacao de dados\n",
    "import seaborn as sns\n",
    "import matplotlib.pyplot as plt\n",
    "### bibliotecas para estatística\n",
    "import scipy.stats as stat"
   ]
  },
  {
   "cell_type": "code",
   "execution_count": 3,
   "metadata": {},
   "outputs": [],
   "source": [
    "enem_json = pd.read_json('enem_2023.json')"
   ]
  },
  {
   "cell_type": "code",
   "execution_count": 95,
   "metadata": {},
   "outputs": [
    {
     "data": {
      "text/html": [
       "<div>\n",
       "<style scoped>\n",
       "    .dataframe tbody tr th:only-of-type {\n",
       "        vertical-align: middle;\n",
       "    }\n",
       "\n",
       "    .dataframe tbody tr th {\n",
       "        vertical-align: top;\n",
       "    }\n",
       "\n",
       "    .dataframe thead th {\n",
       "        text-align: right;\n",
       "    }\n",
       "</style>\n",
       "<table border=\"1\" class=\"dataframe\">\n",
       "  <thead>\n",
       "    <tr style=\"text-align: right;\">\n",
       "      <th></th>\n",
       "      <th>Linguagens</th>\n",
       "      <th>Ciências humanas</th>\n",
       "      <th>Ciências da natureza</th>\n",
       "      <th>Matemática</th>\n",
       "      <th>Redação</th>\n",
       "      <th>Sexo</th>\n",
       "    </tr>\n",
       "  </thead>\n",
       "  <tbody>\n",
       "    <tr>\n",
       "      <th>0</th>\n",
       "      <td>585.669300</td>\n",
       "      <td>686.512178</td>\n",
       "      <td>390.482473</td>\n",
       "      <td>452.281333</td>\n",
       "      <td>546.371706</td>\n",
       "      <td>Homem</td>\n",
       "    </tr>\n",
       "    <tr>\n",
       "      <th>1</th>\n",
       "      <td>359.384608</td>\n",
       "      <td>642.084134</td>\n",
       "      <td>NaN</td>\n",
       "      <td>412.205207</td>\n",
       "      <td>741.825256</td>\n",
       "      <td>Mulher</td>\n",
       "    </tr>\n",
       "    <tr>\n",
       "      <th>2</th>\n",
       "      <td>622.732384</td>\n",
       "      <td>495.510719</td>\n",
       "      <td>443.183580</td>\n",
       "      <td>669.683401</td>\n",
       "      <td>684.515750</td>\n",
       "      <td>Homem</td>\n",
       "    </tr>\n",
       "    <tr>\n",
       "      <th>3</th>\n",
       "      <td>350.164605</td>\n",
       "      <td>602.041588</td>\n",
       "      <td>413.979810</td>\n",
       "      <td>676.608952</td>\n",
       "      <td>671.237114</td>\n",
       "      <td>Homem</td>\n",
       "    </tr>\n",
       "    <tr>\n",
       "      <th>4</th>\n",
       "      <td>384.093657</td>\n",
       "      <td>489.249140</td>\n",
       "      <td>609.758123</td>\n",
       "      <td>520.426698</td>\n",
       "      <td>744.375048</td>\n",
       "      <td>Homem</td>\n",
       "    </tr>\n",
       "  </tbody>\n",
       "</table>\n",
       "</div>"
      ],
      "text/plain": [
       "   Linguagens  Ciências humanas  Ciências da natureza  Matemática     Redação  \\\n",
       "0  585.669300        686.512178            390.482473  452.281333  546.371706   \n",
       "1  359.384608        642.084134                   NaN  412.205207  741.825256   \n",
       "2  622.732384        495.510719            443.183580  669.683401  684.515750   \n",
       "3  350.164605        602.041588            413.979810  676.608952  671.237114   \n",
       "4  384.093657        489.249140            609.758123  520.426698  744.375048   \n",
       "\n",
       "     Sexo  \n",
       "0   Homem  \n",
       "1  Mulher  \n",
       "2   Homem  \n",
       "3   Homem  \n",
       "4   Homem  "
      ]
     },
     "execution_count": 95,
     "metadata": {},
     "output_type": "execute_result"
    }
   ],
   "source": [
    "enem_json.head()"
   ]
  },
  {
   "cell_type": "markdown",
   "metadata": {},
   "source": [
    "1. Qual das disciplinas tem a maior amplitude de notas?"
   ]
  },
  {
   "cell_type": "code",
   "execution_count": 39,
   "metadata": {},
   "outputs": [
    {
     "data": {
      "text/html": [
       "<div>\n",
       "<style scoped>\n",
       "    .dataframe tbody tr th:only-of-type {\n",
       "        vertical-align: middle;\n",
       "    }\n",
       "\n",
       "    .dataframe tbody tr th {\n",
       "        vertical-align: top;\n",
       "    }\n",
       "\n",
       "    .dataframe thead th {\n",
       "        text-align: right;\n",
       "    }\n",
       "</style>\n",
       "<table border=\"1\" class=\"dataframe\">\n",
       "  <thead>\n",
       "    <tr style=\"text-align: right;\">\n",
       "      <th></th>\n",
       "      <th>Linguagens</th>\n",
       "      <th>Ciências humanas</th>\n",
       "      <th>Ciências da natureza</th>\n",
       "      <th>Matemática</th>\n",
       "      <th>Redação</th>\n",
       "    </tr>\n",
       "  </thead>\n",
       "  <tbody>\n",
       "    <tr>\n",
       "      <th>count</th>\n",
       "      <td>898.000000</td>\n",
       "      <td>937.000000</td>\n",
       "      <td>825.000000</td>\n",
       "      <td>925.000000</td>\n",
       "      <td>861.000000</td>\n",
       "    </tr>\n",
       "    <tr>\n",
       "      <th>mean</th>\n",
       "      <td>514.763824</td>\n",
       "      <td>527.257988</td>\n",
       "      <td>499.594182</td>\n",
       "      <td>536.174519</td>\n",
       "      <td>637.889660</td>\n",
       "    </tr>\n",
       "    <tr>\n",
       "      <th>std</th>\n",
       "      <td>84.267418</td>\n",
       "      <td>78.049742</td>\n",
       "      <td>79.118314</td>\n",
       "      <td>86.833854</td>\n",
       "      <td>115.314951</td>\n",
       "    </tr>\n",
       "    <tr>\n",
       "      <th>min</th>\n",
       "      <td>287.000000</td>\n",
       "      <td>289.900000</td>\n",
       "      <td>314.400000</td>\n",
       "      <td>319.800000</td>\n",
       "      <td>270.839965</td>\n",
       "    </tr>\n",
       "    <tr>\n",
       "      <th>25%</th>\n",
       "      <td>458.375823</td>\n",
       "      <td>475.479896</td>\n",
       "      <td>444.712664</td>\n",
       "      <td>479.229225</td>\n",
       "      <td>556.576045</td>\n",
       "    </tr>\n",
       "    <tr>\n",
       "      <th>50%</th>\n",
       "      <td>515.054794</td>\n",
       "      <td>524.644343</td>\n",
       "      <td>500.515128</td>\n",
       "      <td>533.327963</td>\n",
       "      <td>635.352116</td>\n",
       "    </tr>\n",
       "    <tr>\n",
       "      <th>75%</th>\n",
       "      <td>571.686308</td>\n",
       "      <td>582.024626</td>\n",
       "      <td>548.755893</td>\n",
       "      <td>593.498876</td>\n",
       "      <td>716.006726</td>\n",
       "    </tr>\n",
       "    <tr>\n",
       "      <th>max</th>\n",
       "      <td>804.456317</td>\n",
       "      <td>763.919695</td>\n",
       "      <td>802.004568</td>\n",
       "      <td>807.877902</td>\n",
       "      <td>1000.000000</td>\n",
       "    </tr>\n",
       "  </tbody>\n",
       "</table>\n",
       "</div>"
      ],
      "text/plain": [
       "       Linguagens  Ciências humanas  Ciências da natureza  Matemática  \\\n",
       "count  898.000000        937.000000            825.000000  925.000000   \n",
       "mean   514.763824        527.257988            499.594182  536.174519   \n",
       "std     84.267418         78.049742             79.118314   86.833854   \n",
       "min    287.000000        289.900000            314.400000  319.800000   \n",
       "25%    458.375823        475.479896            444.712664  479.229225   \n",
       "50%    515.054794        524.644343            500.515128  533.327963   \n",
       "75%    571.686308        582.024626            548.755893  593.498876   \n",
       "max    804.456317        763.919695            802.004568  807.877902   \n",
       "\n",
       "           Redação  \n",
       "count   861.000000  \n",
       "mean    637.889660  \n",
       "std     115.314951  \n",
       "min     270.839965  \n",
       "25%     556.576045  \n",
       "50%     635.352116  \n",
       "75%     716.006726  \n",
       "max    1000.000000  "
      ]
     },
     "execution_count": 39,
     "metadata": {},
     "output_type": "execute_result"
    }
   ],
   "source": [
    "enem_json.describe()"
   ]
  },
  {
   "cell_type": "code",
   "execution_count": 47,
   "metadata": {},
   "outputs": [],
   "source": [
    "def amplitudes(df):\n",
    "    df1 = df.describe()\n",
    "    df1.loc[\"amplitude\"] = df1.loc['max'] - df1.loc['min']\n",
    "    return df1"
   ]
  },
  {
   "cell_type": "code",
   "execution_count": 48,
   "metadata": {},
   "outputs": [
    {
     "data": {
      "text/html": [
       "<div>\n",
       "<style scoped>\n",
       "    .dataframe tbody tr th:only-of-type {\n",
       "        vertical-align: middle;\n",
       "    }\n",
       "\n",
       "    .dataframe tbody tr th {\n",
       "        vertical-align: top;\n",
       "    }\n",
       "\n",
       "    .dataframe thead th {\n",
       "        text-align: right;\n",
       "    }\n",
       "</style>\n",
       "<table border=\"1\" class=\"dataframe\">\n",
       "  <thead>\n",
       "    <tr style=\"text-align: right;\">\n",
       "      <th></th>\n",
       "      <th>Linguagens</th>\n",
       "      <th>Ciências humanas</th>\n",
       "      <th>Ciências da natureza</th>\n",
       "      <th>Matemática</th>\n",
       "      <th>Redação</th>\n",
       "    </tr>\n",
       "  </thead>\n",
       "  <tbody>\n",
       "    <tr>\n",
       "      <th>count</th>\n",
       "      <td>898.000000</td>\n",
       "      <td>937.000000</td>\n",
       "      <td>825.000000</td>\n",
       "      <td>925.000000</td>\n",
       "      <td>861.000000</td>\n",
       "    </tr>\n",
       "    <tr>\n",
       "      <th>mean</th>\n",
       "      <td>514.763824</td>\n",
       "      <td>527.257988</td>\n",
       "      <td>499.594182</td>\n",
       "      <td>536.174519</td>\n",
       "      <td>637.889660</td>\n",
       "    </tr>\n",
       "    <tr>\n",
       "      <th>std</th>\n",
       "      <td>84.267418</td>\n",
       "      <td>78.049742</td>\n",
       "      <td>79.118314</td>\n",
       "      <td>86.833854</td>\n",
       "      <td>115.314951</td>\n",
       "    </tr>\n",
       "    <tr>\n",
       "      <th>min</th>\n",
       "      <td>287.000000</td>\n",
       "      <td>289.900000</td>\n",
       "      <td>314.400000</td>\n",
       "      <td>319.800000</td>\n",
       "      <td>270.839965</td>\n",
       "    </tr>\n",
       "    <tr>\n",
       "      <th>25%</th>\n",
       "      <td>458.375823</td>\n",
       "      <td>475.479896</td>\n",
       "      <td>444.712664</td>\n",
       "      <td>479.229225</td>\n",
       "      <td>556.576045</td>\n",
       "    </tr>\n",
       "    <tr>\n",
       "      <th>50%</th>\n",
       "      <td>515.054794</td>\n",
       "      <td>524.644343</td>\n",
       "      <td>500.515128</td>\n",
       "      <td>533.327963</td>\n",
       "      <td>635.352116</td>\n",
       "    </tr>\n",
       "    <tr>\n",
       "      <th>75%</th>\n",
       "      <td>571.686308</td>\n",
       "      <td>582.024626</td>\n",
       "      <td>548.755893</td>\n",
       "      <td>593.498876</td>\n",
       "      <td>716.006726</td>\n",
       "    </tr>\n",
       "    <tr>\n",
       "      <th>max</th>\n",
       "      <td>804.456317</td>\n",
       "      <td>763.919695</td>\n",
       "      <td>802.004568</td>\n",
       "      <td>807.877902</td>\n",
       "      <td>1000.000000</td>\n",
       "    </tr>\n",
       "    <tr>\n",
       "      <th>amplitude</th>\n",
       "      <td>517.456317</td>\n",
       "      <td>474.019695</td>\n",
       "      <td>487.604568</td>\n",
       "      <td>488.077902</td>\n",
       "      <td>729.160035</td>\n",
       "    </tr>\n",
       "  </tbody>\n",
       "</table>\n",
       "</div>"
      ],
      "text/plain": [
       "           Linguagens  Ciências humanas  Ciências da natureza  Matemática  \\\n",
       "count      898.000000        937.000000            825.000000  925.000000   \n",
       "mean       514.763824        527.257988            499.594182  536.174519   \n",
       "std         84.267418         78.049742             79.118314   86.833854   \n",
       "min        287.000000        289.900000            314.400000  319.800000   \n",
       "25%        458.375823        475.479896            444.712664  479.229225   \n",
       "50%        515.054794        524.644343            500.515128  533.327963   \n",
       "75%        571.686308        582.024626            548.755893  593.498876   \n",
       "max        804.456317        763.919695            802.004568  807.877902   \n",
       "amplitude  517.456317        474.019695            487.604568  488.077902   \n",
       "\n",
       "               Redação  \n",
       "count       861.000000  \n",
       "mean        637.889660  \n",
       "std         115.314951  \n",
       "min         270.839965  \n",
       "25%         556.576045  \n",
       "50%         635.352116  \n",
       "75%         716.006726  \n",
       "max        1000.000000  \n",
       "amplitude   729.160035  "
      ]
     },
     "execution_count": 48,
     "metadata": {},
     "output_type": "execute_result"
    }
   ],
   "source": [
    "amplitudes(enem_json)"
   ]
  },
  {
   "cell_type": "code",
   "execution_count": 93,
   "metadata": {},
   "outputs": [],
   "source": [
    "def maior_amplitudes(df):\n",
    "    df1 = df.describe()\n",
    "    df1.loc[\"amplitude\"] = df1.loc['max'] - df1.loc['min']\n",
    "    max_amplitude = df1.loc[\"amplitude\"].max()\n",
    "    coluna = df1.columns[df1.isin([max_amplitude]).any()]\n",
    "    return print(f\"A maior amplitude é {max_amplitude} que fica na coluna {coluna}\")"
   ]
  },
  {
   "cell_type": "code",
   "execution_count": 94,
   "metadata": {},
   "outputs": [
    {
     "name": "stdout",
     "output_type": "stream",
     "text": [
      "A maior amplitude é 729.1600351395 que fica na coluna Index(['Redação'], dtype='object')\n"
     ]
    }
   ],
   "source": [
    "maior_amplitudes(enem_json)"
   ]
  },
  {
   "cell_type": "markdown",
   "metadata": {},
   "source": [
    "2. Qual é a média e a mediana para cada uma das disciplinas? (Lembre-se de remover todos os valores nulos quando considerar a mediana)"
   ]
  },
  {
   "cell_type": "code",
   "execution_count": 111,
   "metadata": {},
   "outputs": [],
   "source": [
    "enem_tendencias = enem_json.dropna(subset=[\"Linguagens\", \"Ciências humanas\", \"Ciências da natureza\", \"Matemática\", \"Redação\"])"
   ]
  },
  {
   "cell_type": "code",
   "execution_count": 112,
   "metadata": {},
   "outputs": [],
   "source": [
    "enem_tendencias = enem_tendencias.drop(columns=[\"Sexo\"])"
   ]
  },
  {
   "cell_type": "code",
   "execution_count": 146,
   "metadata": {},
   "outputs": [
    {
     "data": {
      "text/html": [
       "<div>\n",
       "<style scoped>\n",
       "    .dataframe tbody tr th:only-of-type {\n",
       "        vertical-align: middle;\n",
       "    }\n",
       "\n",
       "    .dataframe tbody tr th {\n",
       "        vertical-align: top;\n",
       "    }\n",
       "\n",
       "    .dataframe thead th {\n",
       "        text-align: right;\n",
       "    }\n",
       "</style>\n",
       "<table border=\"1\" class=\"dataframe\">\n",
       "  <thead>\n",
       "    <tr style=\"text-align: right;\">\n",
       "      <th></th>\n",
       "      <th>Linguagens</th>\n",
       "      <th>Ciências humanas</th>\n",
       "      <th>Ciências da natureza</th>\n",
       "      <th>Matemática</th>\n",
       "      <th>Redação</th>\n",
       "    </tr>\n",
       "  </thead>\n",
       "  <tbody>\n",
       "    <tr>\n",
       "      <th>0</th>\n",
       "      <td>585.669300</td>\n",
       "      <td>686.512178</td>\n",
       "      <td>390.482473</td>\n",
       "      <td>452.281333</td>\n",
       "      <td>546.371706</td>\n",
       "    </tr>\n",
       "    <tr>\n",
       "      <th>2</th>\n",
       "      <td>622.732384</td>\n",
       "      <td>495.510719</td>\n",
       "      <td>443.183580</td>\n",
       "      <td>669.683401</td>\n",
       "      <td>684.515750</td>\n",
       "    </tr>\n",
       "    <tr>\n",
       "      <th>3</th>\n",
       "      <td>350.164605</td>\n",
       "      <td>602.041588</td>\n",
       "      <td>413.979810</td>\n",
       "      <td>676.608952</td>\n",
       "      <td>671.237114</td>\n",
       "    </tr>\n",
       "    <tr>\n",
       "      <th>4</th>\n",
       "      <td>384.093657</td>\n",
       "      <td>489.249140</td>\n",
       "      <td>609.758123</td>\n",
       "      <td>520.426698</td>\n",
       "      <td>744.375048</td>\n",
       "    </tr>\n",
       "    <tr>\n",
       "      <th>5</th>\n",
       "      <td>616.043360</td>\n",
       "      <td>502.007005</td>\n",
       "      <td>497.777935</td>\n",
       "      <td>615.902547</td>\n",
       "      <td>507.365147</td>\n",
       "    </tr>\n",
       "  </tbody>\n",
       "</table>\n",
       "</div>"
      ],
      "text/plain": [
       "   Linguagens  Ciências humanas  Ciências da natureza  Matemática     Redação\n",
       "0  585.669300        686.512178            390.482473  452.281333  546.371706\n",
       "2  622.732384        495.510719            443.183580  669.683401  684.515750\n",
       "3  350.164605        602.041588            413.979810  676.608952  671.237114\n",
       "4  384.093657        489.249140            609.758123  520.426698  744.375048\n",
       "5  616.043360        502.007005            497.777935  615.902547  507.365147"
      ]
     },
     "execution_count": 146,
     "metadata": {},
     "output_type": "execute_result"
    }
   ],
   "source": [
    "enem_tendencias.head()"
   ]
  },
  {
   "cell_type": "code",
   "execution_count": 166,
   "metadata": {},
   "outputs": [],
   "source": [
    "# print(enem_tendencias[0:].mean())\n",
    "#Utilizado para comparar se os resultados futuros estão certos\n",
    "    "
   ]
  },
  {
   "cell_type": "code",
   "execution_count": 167,
   "metadata": {},
   "outputs": [],
   "source": [
    "#print(enem_tendencias[0:].median())\n",
    "#Utilizado para comparar se os resultados futuros estão certos"
   ]
  },
  {
   "cell_type": "code",
   "execution_count": 134,
   "metadata": {},
   "outputs": [],
   "source": [
    "enem_tendencias2 = pd.DataFrame()"
   ]
  },
  {
   "cell_type": "code",
   "execution_count": 135,
   "metadata": {},
   "outputs": [],
   "source": [
    "enem_tendencias2[\"Matéria\"] = list(enem_tendencias.columns)"
   ]
  },
  {
   "cell_type": "code",
   "execution_count": 161,
   "metadata": {},
   "outputs": [
    {
     "name": "stdout",
     "output_type": "stream",
     "text": [
      "[517.8527593569739, 528.7172257655019, 502.55561254809635, 537.5221838924026, 641.3533546317391]\n"
     ]
    }
   ],
   "source": [
    "lista_medias = []\n",
    "for coluna in enem_tendencias.columns:\n",
    "   lista_medias.append(enem_tendencias[coluna].mean())\n",
    "print(lista_medias)"
   ]
  },
  {
   "cell_type": "code",
   "execution_count": 162,
   "metadata": {},
   "outputs": [],
   "source": [
    "enem_tendencias2[\"Média\"] = lista_medias"
   ]
  },
  {
   "cell_type": "code",
   "execution_count": 163,
   "metadata": {},
   "outputs": [
    {
     "name": "stdout",
     "output_type": "stream",
     "text": [
      "[517.178027429, 529.3825907453, 502.9893551355, 533.1154142782, 639.6168325324]\n"
     ]
    }
   ],
   "source": [
    "lista_medianas = []\n",
    "for coluna in enem_tendencias.columns:\n",
    "   lista_medianas.append(enem_tendencias[coluna].median())\n",
    "print(lista_medianas)"
   ]
  },
  {
   "cell_type": "code",
   "execution_count": 164,
   "metadata": {},
   "outputs": [],
   "source": [
    "enem_tendencias2[\"Mediana\"] = lista_medianas"
   ]
  },
  {
   "cell_type": "code",
   "execution_count": 165,
   "metadata": {},
   "outputs": [
    {
     "data": {
      "text/html": [
       "<div>\n",
       "<style scoped>\n",
       "    .dataframe tbody tr th:only-of-type {\n",
       "        vertical-align: middle;\n",
       "    }\n",
       "\n",
       "    .dataframe tbody tr th {\n",
       "        vertical-align: top;\n",
       "    }\n",
       "\n",
       "    .dataframe thead th {\n",
       "        text-align: right;\n",
       "    }\n",
       "</style>\n",
       "<table border=\"1\" class=\"dataframe\">\n",
       "  <thead>\n",
       "    <tr style=\"text-align: right;\">\n",
       "      <th></th>\n",
       "      <th>Matéria</th>\n",
       "      <th>Média</th>\n",
       "      <th>Mediana</th>\n",
       "    </tr>\n",
       "  </thead>\n",
       "  <tbody>\n",
       "    <tr>\n",
       "      <th>0</th>\n",
       "      <td>Linguagens</td>\n",
       "      <td>517.852759</td>\n",
       "      <td>517.178027</td>\n",
       "    </tr>\n",
       "    <tr>\n",
       "      <th>1</th>\n",
       "      <td>Ciências humanas</td>\n",
       "      <td>528.717226</td>\n",
       "      <td>529.382591</td>\n",
       "    </tr>\n",
       "    <tr>\n",
       "      <th>2</th>\n",
       "      <td>Ciências da natureza</td>\n",
       "      <td>502.555613</td>\n",
       "      <td>502.989355</td>\n",
       "    </tr>\n",
       "    <tr>\n",
       "      <th>3</th>\n",
       "      <td>Matemática</td>\n",
       "      <td>537.522184</td>\n",
       "      <td>533.115414</td>\n",
       "    </tr>\n",
       "    <tr>\n",
       "      <th>4</th>\n",
       "      <td>Redação</td>\n",
       "      <td>641.353355</td>\n",
       "      <td>639.616833</td>\n",
       "    </tr>\n",
       "  </tbody>\n",
       "</table>\n",
       "</div>"
      ],
      "text/plain": [
       "                Matéria       Média     Mediana\n",
       "0            Linguagens  517.852759  517.178027\n",
       "1      Ciências humanas  528.717226  529.382591\n",
       "2  Ciências da natureza  502.555613  502.989355\n",
       "3            Matemática  537.522184  533.115414\n",
       "4               Redação  641.353355  639.616833"
      ]
     },
     "execution_count": 165,
     "metadata": {},
     "output_type": "execute_result"
    }
   ],
   "source": [
    "enem_tendencias2.head()"
   ]
  },
  {
   "cell_type": "markdown",
   "metadata": {},
   "source": [
    "3. Considerando o curso de Ciência da Computação da UFPE, onde o peso\n",
    "cada uma das disciplinas ponderado:\n",
    "a. Redação - 2\n",
    "b. Matemática e suas Tecnologias - 4\n",
    "c. Linguagens, Códigos e suas Tecnologias - 2\n",
    "d. Ciências Humanas e suas Tecnologias - 1\n",
    "e. Ciências da Natureza e suas Tecnologias - 1\n",
    "Qual o desvio padrão e média das notas dos 500 estudantes mais bem\n",
    "colocados considerando esses pesos?"
   ]
  },
  {
   "cell_type": "markdown",
   "metadata": {},
   "source": [
    "4. Se todos esses estudantes aplicassem para ciência da computação e\n",
    "existem apenas 40 vagas, qual seria a variância e média da nota dos\n",
    "estudantes que entraram no curso de ciência da computação?"
   ]
  },
  {
   "cell_type": "markdown",
   "metadata": {},
   "source": [
    "5. Qual o valor do teto do terceiro quartil para as disciplinas de\n",
    "matemática e linguagens?"
   ]
  },
  {
   "cell_type": "markdown",
   "metadata": {},
   "source": [
    "6. Faça o histograma de Redação e Linguagens, de 20 em 20 pontos.\n",
    "Podemos dizer que são histogramas simétricos, justifique e classifique\n",
    "se não assimétricas?\n"
   ]
  },
  {
   "cell_type": "markdown",
   "metadata": {},
   "source": [
    "7. Agora coloque um range fixo de 0 até 1000, você ainda tem a mesma\n",
    "opinião quanto a simetria? [plt.hist(dado, bins=_, range=[0, 1000])\n"
   ]
  },
  {
   "cell_type": "markdown",
   "metadata": {},
   "source": [
    "8. Faça um boxplot do quartil de todas as disciplinas de ciências da\n",
    "natureza e redação. É possível enxergar outliers? Utilize o método IQR.\n"
   ]
  },
  {
   "cell_type": "markdown",
   "metadata": {},
   "source": [
    "9. Remova todos os outliers e verifique se eles são passíveis de alterar a\n",
    "média nacional significativamente? (considere significativamente um\n",
    "valor acima de 5%)\n"
   ]
  },
  {
   "cell_type": "markdown",
   "metadata": {},
   "source": [
    "10. Considerando valores nulos, tente encontrar qual seria a melhor medida\n",
    "de tendência que pode substituir as notas nulas. Média, moda ou\n",
    "mediana? Substitua o valor por todos os três e diga qual delas altera\n",
    "menos a média geral e o desvio padrão"
   ]
  }
 ],
 "metadata": {
  "kernelspec": {
   "display_name": "Python 3",
   "language": "python",
   "name": "python3"
  },
  "language_info": {
   "codemirror_mode": {
    "name": "ipython",
    "version": 3
   },
   "file_extension": ".py",
   "mimetype": "text/x-python",
   "name": "python",
   "nbconvert_exporter": "python",
   "pygments_lexer": "ipython3",
   "version": "3.12.0"
  },
  "polyglot_notebook": {
   "kernelInfo": {
    "defaultKernelName": "csharp",
    "items": [
     {
      "aliases": [],
      "name": "csharp"
     }
    ]
   }
  }
 },
 "nbformat": 4,
 "nbformat_minor": 2
}
