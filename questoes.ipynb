{
 "cells": [
  {
   "cell_type": "code",
   "execution_count": 3,
   "metadata": {},
   "outputs": [],
   "source": [
    "### bibliotecas base\n",
    "import pandas as pd\n",
    "import numpy as np\n",
    "### bibliotecas para visualizacao de dados\n",
    "import seaborn as sns\n",
    "import matplotlib.pyplot as plt\n",
    "### bibliotecas para estatística\n",
    "import scipy.stats as stat"
   ]
  },
  {
   "cell_type": "code",
   "execution_count": 34,
   "metadata": {},
   "outputs": [],
   "source": [
    "enem_json = pd.read_json('enem_2023.json')"
   ]
  },
  {
   "cell_type": "code",
   "execution_count": 140,
   "metadata": {},
   "outputs": [
    {
     "data": {
      "text/html": [
       "<div>\n",
       "<style scoped>\n",
       "    .dataframe tbody tr th:only-of-type {\n",
       "        vertical-align: middle;\n",
       "    }\n",
       "\n",
       "    .dataframe tbody tr th {\n",
       "        vertical-align: top;\n",
       "    }\n",
       "\n",
       "    .dataframe thead th {\n",
       "        text-align: right;\n",
       "    }\n",
       "</style>\n",
       "<table border=\"1\" class=\"dataframe\">\n",
       "  <thead>\n",
       "    <tr style=\"text-align: right;\">\n",
       "      <th></th>\n",
       "      <th>Linguagens</th>\n",
       "      <th>Ciências humanas</th>\n",
       "      <th>Ciências da natureza</th>\n",
       "      <th>Matemática</th>\n",
       "      <th>Redação</th>\n",
       "      <th>Sexo</th>\n",
       "    </tr>\n",
       "  </thead>\n",
       "  <tbody>\n",
       "    <tr>\n",
       "      <th>0</th>\n",
       "      <td>585.669300</td>\n",
       "      <td>686.512178</td>\n",
       "      <td>390.482473</td>\n",
       "      <td>452.281333</td>\n",
       "      <td>546.371706</td>\n",
       "      <td>Homem</td>\n",
       "    </tr>\n",
       "    <tr>\n",
       "      <th>1</th>\n",
       "      <td>359.384608</td>\n",
       "      <td>642.084134</td>\n",
       "      <td>NaN</td>\n",
       "      <td>412.205207</td>\n",
       "      <td>741.825256</td>\n",
       "      <td>Mulher</td>\n",
       "    </tr>\n",
       "    <tr>\n",
       "      <th>2</th>\n",
       "      <td>622.732384</td>\n",
       "      <td>495.510719</td>\n",
       "      <td>443.183580</td>\n",
       "      <td>669.683401</td>\n",
       "      <td>684.515750</td>\n",
       "      <td>Homem</td>\n",
       "    </tr>\n",
       "    <tr>\n",
       "      <th>3</th>\n",
       "      <td>350.164605</td>\n",
       "      <td>602.041588</td>\n",
       "      <td>413.979810</td>\n",
       "      <td>676.608952</td>\n",
       "      <td>671.237114</td>\n",
       "      <td>Homem</td>\n",
       "    </tr>\n",
       "    <tr>\n",
       "      <th>4</th>\n",
       "      <td>384.093657</td>\n",
       "      <td>489.249140</td>\n",
       "      <td>609.758123</td>\n",
       "      <td>520.426698</td>\n",
       "      <td>744.375048</td>\n",
       "      <td>Homem</td>\n",
       "    </tr>\n",
       "  </tbody>\n",
       "</table>\n",
       "</div>"
      ],
      "text/plain": [
       "   Linguagens  Ciências humanas  Ciências da natureza  Matemática     Redação  \\\n",
       "0  585.669300        686.512178            390.482473  452.281333  546.371706   \n",
       "1  359.384608        642.084134                   NaN  412.205207  741.825256   \n",
       "2  622.732384        495.510719            443.183580  669.683401  684.515750   \n",
       "3  350.164605        602.041588            413.979810  676.608952  671.237114   \n",
       "4  384.093657        489.249140            609.758123  520.426698  744.375048   \n",
       "\n",
       "     Sexo  \n",
       "0   Homem  \n",
       "1  Mulher  \n",
       "2   Homem  \n",
       "3   Homem  \n",
       "4   Homem  "
      ]
     },
     "execution_count": 140,
     "metadata": {},
     "output_type": "execute_result"
    }
   ],
   "source": [
    "enem_json.head()"
   ]
  },
  {
   "cell_type": "markdown",
   "metadata": {},
   "source": [
    "1. Qual das disciplinas tem a maior amplitude de notas?"
   ]
  },
  {
   "cell_type": "code",
   "execution_count": 71,
   "metadata": {},
   "outputs": [
    {
     "data": {
      "text/html": [
       "<div>\n",
       "<style scoped>\n",
       "    .dataframe tbody tr th:only-of-type {\n",
       "        vertical-align: middle;\n",
       "    }\n",
       "\n",
       "    .dataframe tbody tr th {\n",
       "        vertical-align: top;\n",
       "    }\n",
       "\n",
       "    .dataframe thead th {\n",
       "        text-align: right;\n",
       "    }\n",
       "</style>\n",
       "<table border=\"1\" class=\"dataframe\">\n",
       "  <thead>\n",
       "    <tr style=\"text-align: right;\">\n",
       "      <th></th>\n",
       "      <th>Linguagens</th>\n",
       "      <th>Ciências humanas</th>\n",
       "      <th>Ciências da natureza</th>\n",
       "      <th>Matemática</th>\n",
       "      <th>Redação</th>\n",
       "    </tr>\n",
       "  </thead>\n",
       "  <tbody>\n",
       "    <tr>\n",
       "      <th>count</th>\n",
       "      <td>897.000000</td>\n",
       "      <td>936.000000</td>\n",
       "      <td>824.000000</td>\n",
       "      <td>924.000000</td>\n",
       "      <td>860.000000</td>\n",
       "    </tr>\n",
       "    <tr>\n",
       "      <th>mean</th>\n",
       "      <td>514.524809</td>\n",
       "      <td>527.042281</td>\n",
       "      <td>499.315583</td>\n",
       "      <td>535.965660</td>\n",
       "      <td>637.783532</td>\n",
       "    </tr>\n",
       "    <tr>\n",
       "      <th>std</th>\n",
       "      <td>84.009313</td>\n",
       "      <td>77.811519</td>\n",
       "      <td>78.760404</td>\n",
       "      <td>86.648100</td>\n",
       "      <td>115.339972</td>\n",
       "    </tr>\n",
       "    <tr>\n",
       "      <th>min</th>\n",
       "      <td>287.000000</td>\n",
       "      <td>289.900000</td>\n",
       "      <td>314.400000</td>\n",
       "      <td>319.800000</td>\n",
       "      <td>270.839965</td>\n",
       "    </tr>\n",
       "    <tr>\n",
       "      <th>25%</th>\n",
       "      <td>458.360558</td>\n",
       "      <td>475.424546</td>\n",
       "      <td>444.709076</td>\n",
       "      <td>479.172971</td>\n",
       "      <td>556.468366</td>\n",
       "    </tr>\n",
       "    <tr>\n",
       "      <th>50%</th>\n",
       "      <td>515.045250</td>\n",
       "      <td>524.519920</td>\n",
       "      <td>500.479263</td>\n",
       "      <td>533.247767</td>\n",
       "      <td>635.273973</td>\n",
       "    </tr>\n",
       "    <tr>\n",
       "      <th>75%</th>\n",
       "      <td>571.635876</td>\n",
       "      <td>581.401952</td>\n",
       "      <td>548.751678</td>\n",
       "      <td>592.912963</td>\n",
       "      <td>715.989868</td>\n",
       "    </tr>\n",
       "    <tr>\n",
       "      <th>max</th>\n",
       "      <td>804.456317</td>\n",
       "      <td>763.919695</td>\n",
       "      <td>802.004568</td>\n",
       "      <td>807.877902</td>\n",
       "      <td>1000.000000</td>\n",
       "    </tr>\n",
       "  </tbody>\n",
       "</table>\n",
       "</div>"
      ],
      "text/plain": [
       "       Linguagens  Ciências humanas  Ciências da natureza  Matemática  \\\n",
       "count  897.000000        936.000000            824.000000  924.000000   \n",
       "mean   514.524809        527.042281            499.315583  535.965660   \n",
       "std     84.009313         77.811519             78.760404   86.648100   \n",
       "min    287.000000        289.900000            314.400000  319.800000   \n",
       "25%    458.360558        475.424546            444.709076  479.172971   \n",
       "50%    515.045250        524.519920            500.479263  533.247767   \n",
       "75%    571.635876        581.401952            548.751678  592.912963   \n",
       "max    804.456317        763.919695            802.004568  807.877902   \n",
       "\n",
       "           Redação  \n",
       "count   860.000000  \n",
       "mean    637.783532  \n",
       "std     115.339972  \n",
       "min     270.839965  \n",
       "25%     556.468366  \n",
       "50%     635.273973  \n",
       "75%     715.989868  \n",
       "max    1000.000000  "
      ]
     },
     "execution_count": 71,
     "metadata": {},
     "output_type": "execute_result"
    }
   ],
   "source": [
    "enem_json.describe()"
   ]
  },
  {
   "cell_type": "code",
   "execution_count": 47,
   "metadata": {},
   "outputs": [],
   "source": [
    "def amplitudes(df):\n",
    "    df1 = df.describe()\n",
    "    df1.loc[\"amplitude\"] = df1.loc['max'] - df1.loc['min']\n",
    "    return df1"
   ]
  },
  {
   "cell_type": "code",
   "execution_count": 48,
   "metadata": {},
   "outputs": [
    {
     "data": {
      "text/html": [
       "<div>\n",
       "<style scoped>\n",
       "    .dataframe tbody tr th:only-of-type {\n",
       "        vertical-align: middle;\n",
       "    }\n",
       "\n",
       "    .dataframe tbody tr th {\n",
       "        vertical-align: top;\n",
       "    }\n",
       "\n",
       "    .dataframe thead th {\n",
       "        text-align: right;\n",
       "    }\n",
       "</style>\n",
       "<table border=\"1\" class=\"dataframe\">\n",
       "  <thead>\n",
       "    <tr style=\"text-align: right;\">\n",
       "      <th></th>\n",
       "      <th>Linguagens</th>\n",
       "      <th>Ciências humanas</th>\n",
       "      <th>Ciências da natureza</th>\n",
       "      <th>Matemática</th>\n",
       "      <th>Redação</th>\n",
       "    </tr>\n",
       "  </thead>\n",
       "  <tbody>\n",
       "    <tr>\n",
       "      <th>count</th>\n",
       "      <td>898.000000</td>\n",
       "      <td>937.000000</td>\n",
       "      <td>825.000000</td>\n",
       "      <td>925.000000</td>\n",
       "      <td>861.000000</td>\n",
       "    </tr>\n",
       "    <tr>\n",
       "      <th>mean</th>\n",
       "      <td>514.763824</td>\n",
       "      <td>527.257988</td>\n",
       "      <td>499.594182</td>\n",
       "      <td>536.174519</td>\n",
       "      <td>637.889660</td>\n",
       "    </tr>\n",
       "    <tr>\n",
       "      <th>std</th>\n",
       "      <td>84.267418</td>\n",
       "      <td>78.049742</td>\n",
       "      <td>79.118314</td>\n",
       "      <td>86.833854</td>\n",
       "      <td>115.314951</td>\n",
       "    </tr>\n",
       "    <tr>\n",
       "      <th>min</th>\n",
       "      <td>287.000000</td>\n",
       "      <td>289.900000</td>\n",
       "      <td>314.400000</td>\n",
       "      <td>319.800000</td>\n",
       "      <td>270.839965</td>\n",
       "    </tr>\n",
       "    <tr>\n",
       "      <th>25%</th>\n",
       "      <td>458.375823</td>\n",
       "      <td>475.479896</td>\n",
       "      <td>444.712664</td>\n",
       "      <td>479.229225</td>\n",
       "      <td>556.576045</td>\n",
       "    </tr>\n",
       "    <tr>\n",
       "      <th>50%</th>\n",
       "      <td>515.054794</td>\n",
       "      <td>524.644343</td>\n",
       "      <td>500.515128</td>\n",
       "      <td>533.327963</td>\n",
       "      <td>635.352116</td>\n",
       "    </tr>\n",
       "    <tr>\n",
       "      <th>75%</th>\n",
       "      <td>571.686308</td>\n",
       "      <td>582.024626</td>\n",
       "      <td>548.755893</td>\n",
       "      <td>593.498876</td>\n",
       "      <td>716.006726</td>\n",
       "    </tr>\n",
       "    <tr>\n",
       "      <th>max</th>\n",
       "      <td>804.456317</td>\n",
       "      <td>763.919695</td>\n",
       "      <td>802.004568</td>\n",
       "      <td>807.877902</td>\n",
       "      <td>1000.000000</td>\n",
       "    </tr>\n",
       "    <tr>\n",
       "      <th>amplitude</th>\n",
       "      <td>517.456317</td>\n",
       "      <td>474.019695</td>\n",
       "      <td>487.604568</td>\n",
       "      <td>488.077902</td>\n",
       "      <td>729.160035</td>\n",
       "    </tr>\n",
       "  </tbody>\n",
       "</table>\n",
       "</div>"
      ],
      "text/plain": [
       "           Linguagens  Ciências humanas  Ciências da natureza  Matemática  \\\n",
       "count      898.000000        937.000000            825.000000  925.000000   \n",
       "mean       514.763824        527.257988            499.594182  536.174519   \n",
       "std         84.267418         78.049742             79.118314   86.833854   \n",
       "min        287.000000        289.900000            314.400000  319.800000   \n",
       "25%        458.375823        475.479896            444.712664  479.229225   \n",
       "50%        515.054794        524.644343            500.515128  533.327963   \n",
       "75%        571.686308        582.024626            548.755893  593.498876   \n",
       "max        804.456317        763.919695            802.004568  807.877902   \n",
       "amplitude  517.456317        474.019695            487.604568  488.077902   \n",
       "\n",
       "               Redação  \n",
       "count       861.000000  \n",
       "mean        637.889660  \n",
       "std         115.314951  \n",
       "min         270.839965  \n",
       "25%         556.576045  \n",
       "50%         635.352116  \n",
       "75%         716.006726  \n",
       "max        1000.000000  \n",
       "amplitude   729.160035  "
      ]
     },
     "execution_count": 48,
     "metadata": {},
     "output_type": "execute_result"
    }
   ],
   "source": [
    "amplitudes(enem_json)"
   ]
  },
  {
   "cell_type": "code",
   "execution_count": 93,
   "metadata": {},
   "outputs": [],
   "source": [
    "def maior_amplitudes(df):\n",
    "    df1 = df.describe()\n",
    "    df1.loc[\"amplitude\"] = df1.loc['max'] - df1.loc['min']\n",
    "    max_amplitude = df1.loc[\"amplitude\"].max()\n",
    "    coluna = df1.columns[df1.isin([max_amplitude]).any()]\n",
    "    return print(f\"A maior amplitude é {max_amplitude} que fica na coluna {coluna}\")"
   ]
  },
  {
   "cell_type": "code",
   "execution_count": 94,
   "metadata": {},
   "outputs": [
    {
     "name": "stdout",
     "output_type": "stream",
     "text": [
      "A maior amplitude é 729.1600351395 que fica na coluna Index(['Redação'], dtype='object')\n"
     ]
    }
   ],
   "source": [
    "maior_amplitudes(enem_json)"
   ]
  },
  {
   "cell_type": "markdown",
   "metadata": {},
   "source": [
    "2. Qual é a média e a mediana para cada uma das disciplinas? (Lembre-se de remover todos os valores nulos quando considerar a mediana)"
   ]
  },
  {
   "cell_type": "code",
   "execution_count": 84,
   "metadata": {},
   "outputs": [],
   "source": [
    "enem_tendencias = enem_json.dropna(subset=[\"Linguagens\", \"Ciências humanas\", \"Ciências da natureza\", \"Matemática\", \"Redação\"])"
   ]
  },
  {
   "cell_type": "code",
   "execution_count": 85,
   "metadata": {},
   "outputs": [],
   "source": [
    "enem_tendencias = enem_tendencias.drop(columns=[\"Sexo\"])"
   ]
  },
  {
   "cell_type": "code",
   "execution_count": 73,
   "metadata": {},
   "outputs": [
    {
     "data": {
      "text/html": [
       "<div>\n",
       "<style scoped>\n",
       "    .dataframe tbody tr th:only-of-type {\n",
       "        vertical-align: middle;\n",
       "    }\n",
       "\n",
       "    .dataframe tbody tr th {\n",
       "        vertical-align: top;\n",
       "    }\n",
       "\n",
       "    .dataframe thead th {\n",
       "        text-align: right;\n",
       "    }\n",
       "</style>\n",
       "<table border=\"1\" class=\"dataframe\">\n",
       "  <thead>\n",
       "    <tr style=\"text-align: right;\">\n",
       "      <th></th>\n",
       "      <th>Linguagens</th>\n",
       "      <th>Ciências humanas</th>\n",
       "      <th>Ciências da natureza</th>\n",
       "      <th>Matemática</th>\n",
       "      <th>Redação</th>\n",
       "    </tr>\n",
       "  </thead>\n",
       "  <tbody>\n",
       "    <tr>\n",
       "      <th>0</th>\n",
       "      <td>585.669300</td>\n",
       "      <td>686.512178</td>\n",
       "      <td>390.482473</td>\n",
       "      <td>452.281333</td>\n",
       "      <td>546.371706</td>\n",
       "    </tr>\n",
       "    <tr>\n",
       "      <th>2</th>\n",
       "      <td>622.732384</td>\n",
       "      <td>495.510719</td>\n",
       "      <td>443.183580</td>\n",
       "      <td>669.683401</td>\n",
       "      <td>684.515750</td>\n",
       "    </tr>\n",
       "    <tr>\n",
       "      <th>3</th>\n",
       "      <td>350.164605</td>\n",
       "      <td>602.041588</td>\n",
       "      <td>413.979810</td>\n",
       "      <td>676.608952</td>\n",
       "      <td>671.237114</td>\n",
       "    </tr>\n",
       "    <tr>\n",
       "      <th>4</th>\n",
       "      <td>384.093657</td>\n",
       "      <td>489.249140</td>\n",
       "      <td>609.758123</td>\n",
       "      <td>520.426698</td>\n",
       "      <td>744.375048</td>\n",
       "    </tr>\n",
       "    <tr>\n",
       "      <th>5</th>\n",
       "      <td>616.043360</td>\n",
       "      <td>502.007005</td>\n",
       "      <td>497.777935</td>\n",
       "      <td>615.902547</td>\n",
       "      <td>507.365147</td>\n",
       "    </tr>\n",
       "  </tbody>\n",
       "</table>\n",
       "</div>"
      ],
      "text/plain": [
       "   Linguagens  Ciências humanas  Ciências da natureza  Matemática     Redação\n",
       "0  585.669300        686.512178            390.482473  452.281333  546.371706\n",
       "2  622.732384        495.510719            443.183580  669.683401  684.515750\n",
       "3  350.164605        602.041588            413.979810  676.608952  671.237114\n",
       "4  384.093657        489.249140            609.758123  520.426698  744.375048\n",
       "5  616.043360        502.007005            497.777935  615.902547  507.365147"
      ]
     },
     "execution_count": 73,
     "metadata": {},
     "output_type": "execute_result"
    }
   ],
   "source": [
    "enem_tendencias.head()"
   ]
  },
  {
   "cell_type": "code",
   "execution_count": 166,
   "metadata": {},
   "outputs": [],
   "source": [
    "# print(enem_tendencias[0:].mean())\n",
    "#Utilizado para comparar se os resultados futuros estão certos\n",
    "    "
   ]
  },
  {
   "cell_type": "code",
   "execution_count": 167,
   "metadata": {},
   "outputs": [],
   "source": [
    "#print(enem_tendencias[0:].median())\n",
    "#Utilizado para comparar se os resultados futuros estão certos"
   ]
  },
  {
   "cell_type": "code",
   "execution_count": 134,
   "metadata": {},
   "outputs": [],
   "source": [
    "enem_tendencias2 = pd.DataFrame()"
   ]
  },
  {
   "cell_type": "code",
   "execution_count": 135,
   "metadata": {},
   "outputs": [],
   "source": [
    "enem_tendencias2[\"Matéria\"] = list(enem_tendencias.columns)"
   ]
  },
  {
   "cell_type": "code",
   "execution_count": 161,
   "metadata": {},
   "outputs": [
    {
     "name": "stdout",
     "output_type": "stream",
     "text": [
      "[517.8527593569739, 528.7172257655019, 502.55561254809635, 537.5221838924026, 641.3533546317391]\n"
     ]
    }
   ],
   "source": [
    "lista_medias = []\n",
    "for coluna in enem_tendencias.columns:\n",
    "   lista_medias.append(enem_tendencias[coluna].mean())\n",
    "print(lista_medias)"
   ]
  },
  {
   "cell_type": "code",
   "execution_count": 162,
   "metadata": {},
   "outputs": [],
   "source": [
    "enem_tendencias2[\"Média\"] = lista_medias"
   ]
  },
  {
   "cell_type": "code",
   "execution_count": 163,
   "metadata": {},
   "outputs": [
    {
     "name": "stdout",
     "output_type": "stream",
     "text": [
      "[517.178027429, 529.3825907453, 502.9893551355, 533.1154142782, 639.6168325324]\n"
     ]
    }
   ],
   "source": [
    "lista_medianas = []\n",
    "for coluna in enem_tendencias.columns:\n",
    "   lista_medianas.append(enem_tendencias[coluna].median())\n",
    "print(lista_medianas)"
   ]
  },
  {
   "cell_type": "code",
   "execution_count": 164,
   "metadata": {},
   "outputs": [],
   "source": [
    "enem_tendencias2[\"Mediana\"] = lista_medianas"
   ]
  },
  {
   "cell_type": "code",
   "execution_count": 165,
   "metadata": {},
   "outputs": [
    {
     "data": {
      "text/html": [
       "<div>\n",
       "<style scoped>\n",
       "    .dataframe tbody tr th:only-of-type {\n",
       "        vertical-align: middle;\n",
       "    }\n",
       "\n",
       "    .dataframe tbody tr th {\n",
       "        vertical-align: top;\n",
       "    }\n",
       "\n",
       "    .dataframe thead th {\n",
       "        text-align: right;\n",
       "    }\n",
       "</style>\n",
       "<table border=\"1\" class=\"dataframe\">\n",
       "  <thead>\n",
       "    <tr style=\"text-align: right;\">\n",
       "      <th></th>\n",
       "      <th>Matéria</th>\n",
       "      <th>Média</th>\n",
       "      <th>Mediana</th>\n",
       "    </tr>\n",
       "  </thead>\n",
       "  <tbody>\n",
       "    <tr>\n",
       "      <th>0</th>\n",
       "      <td>Linguagens</td>\n",
       "      <td>517.852759</td>\n",
       "      <td>517.178027</td>\n",
       "    </tr>\n",
       "    <tr>\n",
       "      <th>1</th>\n",
       "      <td>Ciências humanas</td>\n",
       "      <td>528.717226</td>\n",
       "      <td>529.382591</td>\n",
       "    </tr>\n",
       "    <tr>\n",
       "      <th>2</th>\n",
       "      <td>Ciências da natureza</td>\n",
       "      <td>502.555613</td>\n",
       "      <td>502.989355</td>\n",
       "    </tr>\n",
       "    <tr>\n",
       "      <th>3</th>\n",
       "      <td>Matemática</td>\n",
       "      <td>537.522184</td>\n",
       "      <td>533.115414</td>\n",
       "    </tr>\n",
       "    <tr>\n",
       "      <th>4</th>\n",
       "      <td>Redação</td>\n",
       "      <td>641.353355</td>\n",
       "      <td>639.616833</td>\n",
       "    </tr>\n",
       "  </tbody>\n",
       "</table>\n",
       "</div>"
      ],
      "text/plain": [
       "                Matéria       Média     Mediana\n",
       "0            Linguagens  517.852759  517.178027\n",
       "1      Ciências humanas  528.717226  529.382591\n",
       "2  Ciências da natureza  502.555613  502.989355\n",
       "3            Matemática  537.522184  533.115414\n",
       "4               Redação  641.353355  639.616833"
      ]
     },
     "execution_count": 165,
     "metadata": {},
     "output_type": "execute_result"
    }
   ],
   "source": [
    "enem_tendencias2.head()"
   ]
  },
  {
   "cell_type": "markdown",
   "metadata": {},
   "source": [
    "3. Considerando o curso de Ciência da Computação da UFPE, onde o peso\n",
    "cada uma das disciplinas ponderado:\n",
    "a. Redação - 2\n",
    "b. Matemática e suas Tecnologias - 4\n",
    "c. Linguagens, Códigos e suas Tecnologias - 2\n",
    "d. Ciências Humanas e suas Tecnologias - 1\n",
    "e. Ciências da Natureza e suas Tecnologias - 1\n",
    "Qual o desvio padrão e média das notas dos 500 estudantes mais bem\n",
    "colocados considerando esses pesos?"
   ]
  },
  {
   "cell_type": "code",
   "execution_count": 168,
   "metadata": {},
   "outputs": [
    {
     "data": {
      "text/html": [
       "<div>\n",
       "<style scoped>\n",
       "    .dataframe tbody tr th:only-of-type {\n",
       "        vertical-align: middle;\n",
       "    }\n",
       "\n",
       "    .dataframe tbody tr th {\n",
       "        vertical-align: top;\n",
       "    }\n",
       "\n",
       "    .dataframe thead th {\n",
       "        text-align: right;\n",
       "    }\n",
       "</style>\n",
       "<table border=\"1\" class=\"dataframe\">\n",
       "  <thead>\n",
       "    <tr style=\"text-align: right;\">\n",
       "      <th></th>\n",
       "      <th>Linguagens</th>\n",
       "      <th>Ciências humanas</th>\n",
       "      <th>Ciências da natureza</th>\n",
       "      <th>Matemática</th>\n",
       "      <th>Redação</th>\n",
       "    </tr>\n",
       "  </thead>\n",
       "  <tbody>\n",
       "    <tr>\n",
       "      <th>0</th>\n",
       "      <td>585.669300</td>\n",
       "      <td>686.512178</td>\n",
       "      <td>390.482473</td>\n",
       "      <td>452.281333</td>\n",
       "      <td>546.371706</td>\n",
       "    </tr>\n",
       "    <tr>\n",
       "      <th>2</th>\n",
       "      <td>622.732384</td>\n",
       "      <td>495.510719</td>\n",
       "      <td>443.183580</td>\n",
       "      <td>669.683401</td>\n",
       "      <td>684.515750</td>\n",
       "    </tr>\n",
       "    <tr>\n",
       "      <th>3</th>\n",
       "      <td>350.164605</td>\n",
       "      <td>602.041588</td>\n",
       "      <td>413.979810</td>\n",
       "      <td>676.608952</td>\n",
       "      <td>671.237114</td>\n",
       "    </tr>\n",
       "    <tr>\n",
       "      <th>4</th>\n",
       "      <td>384.093657</td>\n",
       "      <td>489.249140</td>\n",
       "      <td>609.758123</td>\n",
       "      <td>520.426698</td>\n",
       "      <td>744.375048</td>\n",
       "    </tr>\n",
       "    <tr>\n",
       "      <th>5</th>\n",
       "      <td>616.043360</td>\n",
       "      <td>502.007005</td>\n",
       "      <td>497.777935</td>\n",
       "      <td>615.902547</td>\n",
       "      <td>507.365147</td>\n",
       "    </tr>\n",
       "  </tbody>\n",
       "</table>\n",
       "</div>"
      ],
      "text/plain": [
       "   Linguagens  Ciências humanas  Ciências da natureza  Matemática     Redação\n",
       "0  585.669300        686.512178            390.482473  452.281333  546.371706\n",
       "2  622.732384        495.510719            443.183580  669.683401  684.515750\n",
       "3  350.164605        602.041588            413.979810  676.608952  671.237114\n",
       "4  384.093657        489.249140            609.758123  520.426698  744.375048\n",
       "5  616.043360        502.007005            497.777935  615.902547  507.365147"
      ]
     },
     "execution_count": 168,
     "metadata": {},
     "output_type": "execute_result"
    }
   ],
   "source": [
    "enem_tendencias.head()"
   ]
  },
  {
   "cell_type": "code",
   "execution_count": 179,
   "metadata": {},
   "outputs": [],
   "source": [
    "enem_ponderado = enem_tendencias"
   ]
  },
  {
   "cell_type": "code",
   "execution_count": 174,
   "metadata": {},
   "outputs": [],
   "source": [
    "enem_ponderado[\"Linguagens\"] = enem_ponderado[\"Linguagens\"] * 2"
   ]
  },
  {
   "cell_type": "code",
   "execution_count": 181,
   "metadata": {},
   "outputs": [],
   "source": [
    "enem_ponderado[\"Matemática\"] = enem_ponderado[\"Matemática\"] * 4\n",
    "enem_ponderado[\"Redação\"] = enem_ponderado[\"Redação\"] * 2"
   ]
  },
  {
   "cell_type": "code",
   "execution_count": 212,
   "metadata": {},
   "outputs": [],
   "source": [
    "enem_ponderado =  enem_ponderado.drop(['Amplitude'], axis=0)"
   ]
  },
  {
   "cell_type": "code",
   "execution_count": 224,
   "metadata": {},
   "outputs": [
    {
     "data": {
      "text/html": [
       "<div>\n",
       "<style scoped>\n",
       "    .dataframe tbody tr th:only-of-type {\n",
       "        vertical-align: middle;\n",
       "    }\n",
       "\n",
       "    .dataframe tbody tr th {\n",
       "        vertical-align: top;\n",
       "    }\n",
       "\n",
       "    .dataframe thead th {\n",
       "        text-align: right;\n",
       "    }\n",
       "</style>\n",
       "<table border=\"1\" class=\"dataframe\">\n",
       "  <thead>\n",
       "    <tr style=\"text-align: right;\">\n",
       "      <th></th>\n",
       "      <th>Linguagens</th>\n",
       "      <th>Ciências humanas</th>\n",
       "      <th>Ciências da natureza</th>\n",
       "      <th>Matemática</th>\n",
       "      <th>Redação</th>\n",
       "      <th>Média ponderada</th>\n",
       "    </tr>\n",
       "  </thead>\n",
       "  <tbody>\n",
       "    <tr>\n",
       "      <th>0</th>\n",
       "      <td>1171.338599</td>\n",
       "      <td>686.512178</td>\n",
       "      <td>390.482473</td>\n",
       "      <td>1809.125330</td>\n",
       "      <td>1092.743412</td>\n",
       "      <td>515.020199</td>\n",
       "    </tr>\n",
       "    <tr>\n",
       "      <th>2</th>\n",
       "      <td>1245.464768</td>\n",
       "      <td>495.510719</td>\n",
       "      <td>443.183580</td>\n",
       "      <td>2678.733603</td>\n",
       "      <td>1369.031501</td>\n",
       "      <td>623.192417</td>\n",
       "    </tr>\n",
       "    <tr>\n",
       "      <th>3</th>\n",
       "      <td>700.329209</td>\n",
       "      <td>602.041588</td>\n",
       "      <td>413.979810</td>\n",
       "      <td>2706.435806</td>\n",
       "      <td>1342.474229</td>\n",
       "      <td>576.526064</td>\n",
       "    </tr>\n",
       "    <tr>\n",
       "      <th>4</th>\n",
       "      <td>768.187315</td>\n",
       "      <td>489.249140</td>\n",
       "      <td>609.758123</td>\n",
       "      <td>2081.706791</td>\n",
       "      <td>1488.750095</td>\n",
       "      <td>543.765146</td>\n",
       "    </tr>\n",
       "    <tr>\n",
       "      <th>5</th>\n",
       "      <td>1232.086720</td>\n",
       "      <td>502.007005</td>\n",
       "      <td>497.777935</td>\n",
       "      <td>2463.610189</td>\n",
       "      <td>1014.730294</td>\n",
       "      <td>571.021214</td>\n",
       "    </tr>\n",
       "  </tbody>\n",
       "</table>\n",
       "</div>"
      ],
      "text/plain": [
       "    Linguagens  Ciências humanas  Ciências da natureza   Matemática  \\\n",
       "0  1171.338599        686.512178            390.482473  1809.125330   \n",
       "2  1245.464768        495.510719            443.183580  2678.733603   \n",
       "3   700.329209        602.041588            413.979810  2706.435806   \n",
       "4   768.187315        489.249140            609.758123  2081.706791   \n",
       "5  1232.086720        502.007005            497.777935  2463.610189   \n",
       "\n",
       "       Redação  Média ponderada  \n",
       "0  1092.743412       515.020199  \n",
       "2  1369.031501       623.192417  \n",
       "3  1342.474229       576.526064  \n",
       "4  1488.750095       543.765146  \n",
       "5  1014.730294       571.021214  "
      ]
     },
     "execution_count": 224,
     "metadata": {},
     "output_type": "execute_result"
    }
   ],
   "source": [
    "enem_ponderado.head()"
   ]
  },
  {
   "cell_type": "code",
   "execution_count": 197,
   "metadata": {},
   "outputs": [],
   "source": [
    "enem_ponderado[\"Média ponderada\"] = enem_ponderado.loc[0:].sum(axis=1) / 10"
   ]
  },
  {
   "cell_type": "code",
   "execution_count": 231,
   "metadata": {},
   "outputs": [
    {
     "data": {
      "text/plain": [
       "25     682.987732\n",
       "824    680.103191\n",
       "702    671.265814\n",
       "129    664.384364\n",
       "60     658.597791\n",
       "          ...    \n",
       "400    491.878059\n",
       "160    491.409454\n",
       "529    491.032952\n",
       "386    490.069750\n",
       "384    489.969900\n",
       "Name: Média ponderada, Length: 500, dtype: float64"
      ]
     },
     "execution_count": 231,
     "metadata": {},
     "output_type": "execute_result"
    }
   ],
   "source": [
    "enem_ponderado[\"Média ponderada\"].sort_values(ascending=False).head(500)"
   ]
  },
  {
   "cell_type": "code",
   "execution_count": 227,
   "metadata": {},
   "outputs": [
    {
     "data": {
      "text/plain": [
       "557.2896772018769"
      ]
     },
     "execution_count": 227,
     "metadata": {},
     "output_type": "execute_result"
    }
   ],
   "source": [
    "enem_ponderado[\"Média ponderada\"].sort_values(ascending=False).head(500).mean() #média dos 500 alunos mais bem colocados"
   ]
  },
  {
   "cell_type": "code",
   "execution_count": 228,
   "metadata": {},
   "outputs": [
    {
     "data": {
      "text/plain": [
       "40.435866299464266"
      ]
     },
     "execution_count": 228,
     "metadata": {},
     "output_type": "execute_result"
    }
   ],
   "source": [
    "enem_ponderado[\"Média ponderada\"].sort_values(ascending=False).head(500).std() #desvio padrão dos 500 alunos mais bem colocados"
   ]
  },
  {
   "cell_type": "markdown",
   "metadata": {},
   "source": [
    "4. Se todos esses estudantes aplicassem para ciência da computação e\n",
    "existem apenas 40 vagas, qual seria a variância e média da nota dos\n",
    "estudantes que entraram no curso de ciência da computação?"
   ]
  },
  {
   "cell_type": "code",
   "execution_count": 232,
   "metadata": {},
   "outputs": [
    {
     "data": {
      "text/plain": [
       "636.6827415075188"
      ]
     },
     "execution_count": 232,
     "metadata": {},
     "output_type": "execute_result"
    }
   ],
   "source": [
    "enem_ponderado[\"Média ponderada\"].sort_values(ascending=False).head(40).mean() #média dos 40 alunos mais bem colocados"
   ]
  },
  {
   "cell_type": "code",
   "execution_count": 233,
   "metadata": {},
   "outputs": [
    {
     "data": {
      "text/plain": [
       "295.76750360041024"
      ]
     },
     "execution_count": 233,
     "metadata": {},
     "output_type": "execute_result"
    }
   ],
   "source": [
    "enem_ponderado[\"Média ponderada\"].sort_values(ascending=False).head(40).var() #variância dos 40 alunos mais bem colocados"
   ]
  },
  {
   "cell_type": "markdown",
   "metadata": {},
   "source": [
    "5. Qual o valor do teto do terceiro quartil para as disciplinas de\n",
    "matemática e linguagens?"
   ]
  },
  {
   "cell_type": "code",
   "execution_count": 241,
   "metadata": {},
   "outputs": [
    {
     "data": {
      "text/html": [
       "<div>\n",
       "<style scoped>\n",
       "    .dataframe tbody tr th:only-of-type {\n",
       "        vertical-align: middle;\n",
       "    }\n",
       "\n",
       "    .dataframe tbody tr th {\n",
       "        vertical-align: top;\n",
       "    }\n",
       "\n",
       "    .dataframe thead th {\n",
       "        text-align: right;\n",
       "    }\n",
       "</style>\n",
       "<table border=\"1\" class=\"dataframe\">\n",
       "  <thead>\n",
       "    <tr style=\"text-align: right;\">\n",
       "      <th></th>\n",
       "      <th>Matemática</th>\n",
       "      <th>Linguagens</th>\n",
       "    </tr>\n",
       "  </thead>\n",
       "  <tbody>\n",
       "    <tr>\n",
       "      <th>count</th>\n",
       "      <td>549.000000</td>\n",
       "      <td>549.000000</td>\n",
       "    </tr>\n",
       "    <tr>\n",
       "      <th>mean</th>\n",
       "      <td>537.522184</td>\n",
       "      <td>517.852759</td>\n",
       "    </tr>\n",
       "    <tr>\n",
       "      <th>std</th>\n",
       "      <td>88.152197</td>\n",
       "      <td>82.534564</td>\n",
       "    </tr>\n",
       "    <tr>\n",
       "      <th>min</th>\n",
       "      <td>319.800000</td>\n",
       "      <td>287.000000</td>\n",
       "    </tr>\n",
       "    <tr>\n",
       "      <th>25%</th>\n",
       "      <td>477.066328</td>\n",
       "      <td>462.664147</td>\n",
       "    </tr>\n",
       "    <tr>\n",
       "      <th>50%</th>\n",
       "      <td>533.115414</td>\n",
       "      <td>517.178027</td>\n",
       "    </tr>\n",
       "    <tr>\n",
       "      <th>75%</th>\n",
       "      <td>591.639725</td>\n",
       "      <td>572.939036</td>\n",
       "    </tr>\n",
       "    <tr>\n",
       "      <th>max</th>\n",
       "      <td>807.877902</td>\n",
       "      <td>804.456317</td>\n",
       "    </tr>\n",
       "  </tbody>\n",
       "</table>\n",
       "</div>"
      ],
      "text/plain": [
       "       Matemática  Linguagens\n",
       "count  549.000000  549.000000\n",
       "mean   537.522184  517.852759\n",
       "std     88.152197   82.534564\n",
       "min    319.800000  287.000000\n",
       "25%    477.066328  462.664147\n",
       "50%    533.115414  517.178027\n",
       "75%    591.639725  572.939036\n",
       "max    807.877902  804.456317"
      ]
     },
     "execution_count": 241,
     "metadata": {},
     "output_type": "execute_result"
    }
   ],
   "source": [
    "enem_tendencias[[\"Matemática\", \"Linguagens\"]].describe()"
   ]
  },
  {
   "cell_type": "markdown",
   "metadata": {},
   "source": [
    "6. Faça o histograma de Redação e Linguagens, de 20 em 20 pontos.\n",
    "Podemos dizer que são histogramas simétricos, justifique e classifique\n",
    "se não assimétricas?\n",
    "R: Linguages é assimétrico, Redação não."
   ]
  },
  {
   "cell_type": "code",
   "execution_count": 243,
   "metadata": {},
   "outputs": [
    {
     "data": {
      "text/html": [
       "<div>\n",
       "<style scoped>\n",
       "    .dataframe tbody tr th:only-of-type {\n",
       "        vertical-align: middle;\n",
       "    }\n",
       "\n",
       "    .dataframe tbody tr th {\n",
       "        vertical-align: top;\n",
       "    }\n",
       "\n",
       "    .dataframe thead th {\n",
       "        text-align: right;\n",
       "    }\n",
       "</style>\n",
       "<table border=\"1\" class=\"dataframe\">\n",
       "  <thead>\n",
       "    <tr style=\"text-align: right;\">\n",
       "      <th></th>\n",
       "      <th>Linguagens</th>\n",
       "      <th>Ciências humanas</th>\n",
       "      <th>Ciências da natureza</th>\n",
       "      <th>Matemática</th>\n",
       "      <th>Redação</th>\n",
       "    </tr>\n",
       "  </thead>\n",
       "  <tbody>\n",
       "    <tr>\n",
       "      <th>0</th>\n",
       "      <td>585.669300</td>\n",
       "      <td>686.512178</td>\n",
       "      <td>390.482473</td>\n",
       "      <td>452.281333</td>\n",
       "      <td>546.371706</td>\n",
       "    </tr>\n",
       "    <tr>\n",
       "      <th>2</th>\n",
       "      <td>622.732384</td>\n",
       "      <td>495.510719</td>\n",
       "      <td>443.183580</td>\n",
       "      <td>669.683401</td>\n",
       "      <td>684.515750</td>\n",
       "    </tr>\n",
       "    <tr>\n",
       "      <th>3</th>\n",
       "      <td>350.164605</td>\n",
       "      <td>602.041588</td>\n",
       "      <td>413.979810</td>\n",
       "      <td>676.608952</td>\n",
       "      <td>671.237114</td>\n",
       "    </tr>\n",
       "    <tr>\n",
       "      <th>4</th>\n",
       "      <td>384.093657</td>\n",
       "      <td>489.249140</td>\n",
       "      <td>609.758123</td>\n",
       "      <td>520.426698</td>\n",
       "      <td>744.375048</td>\n",
       "    </tr>\n",
       "    <tr>\n",
       "      <th>5</th>\n",
       "      <td>616.043360</td>\n",
       "      <td>502.007005</td>\n",
       "      <td>497.777935</td>\n",
       "      <td>615.902547</td>\n",
       "      <td>507.365147</td>\n",
       "    </tr>\n",
       "  </tbody>\n",
       "</table>\n",
       "</div>"
      ],
      "text/plain": [
       "   Linguagens  Ciências humanas  Ciências da natureza  Matemática     Redação\n",
       "0  585.669300        686.512178            390.482473  452.281333  546.371706\n",
       "2  622.732384        495.510719            443.183580  669.683401  684.515750\n",
       "3  350.164605        602.041588            413.979810  676.608952  671.237114\n",
       "4  384.093657        489.249140            609.758123  520.426698  744.375048\n",
       "5  616.043360        502.007005            497.777935  615.902547  507.365147"
      ]
     },
     "execution_count": 243,
     "metadata": {},
     "output_type": "execute_result"
    }
   ],
   "source": [
    "enem_tendencias.head()"
   ]
  },
  {
   "cell_type": "code",
   "execution_count": 7,
   "metadata": {},
   "outputs": [
    {
     "data": {
      "image/png": "[encoded data removed]",
      "text/plain": [
       "<Figure size 640x480 with 1 Axes>"
      ]
     },
     "metadata": {},
     "output_type": "display_data"
    }
   ],
   "source": [
    "plt.hist(enem_tendencias[\"Linguagens\"], bins = 20)\n",
    "plt.title(\"Histograma notas de linguagens\")\n",
    "plt.show() "
   ]
  },
  {
   "cell_type": "code",
   "execution_count": 8,
   "metadata": {},
   "outputs": [
    {
     "data": {
      "image/png": "[encoded data removed]",
      "text/plain": [
       "<Figure size 640x480 with 1 Axes>"
      ]
     },
     "metadata": {},
     "output_type": "display_data"
    }
   ],
   "source": [
    "plt.hist(enem_tendencias[\"Redação\"], bins = 20)\n",
    "plt.title(\"Histograma notas de redação\")\n",
    "plt.show() "
   ]
  },
  {
   "cell_type": "markdown",
   "metadata": {},
   "source": [
    "7. Agora coloque um range fixo de 0 até 1000, você ainda tem a mesma\n",
    "opinião quanto a simetria? [plt.hist(dado, bins=_, range=[0, 1000])\n",
    "R: Ambos ficam assimétricos"
   ]
  },
  {
   "cell_type": "code",
   "execution_count": 9,
   "metadata": {},
   "outputs": [
    {
     "data": {
      "image/png": "[encoded data removed]",
      "text/plain": [
       "<Figure size 640x480 with 1 Axes>"
      ]
     },
     "metadata": {},
     "output_type": "display_data"
    }
   ],
   "source": [
    "plt.hist(enem_tendencias[\"Linguagens\"], bins = 20, range=[0, 1000])\n",
    "plt.title(\"Histograma notas de linguagens\")\n",
    "plt.show() "
   ]
  },
  {
   "cell_type": "code",
   "execution_count": 10,
   "metadata": {},
   "outputs": [
    {
     "data": {
      "image/png": "[encoded data removed]",
      "text/plain": [
       "<Figure size 640x480 with 1 Axes>"
      ]
     },
     "metadata": {},
     "output_type": "display_data"
    }
   ],
   "source": [
    "plt.hist(enem_tendencias[\"Redação\"], bins = 20, range=[0, 1000])\n",
    "plt.title(\"Histograma notas de redação\")\n",
    "plt.show() "
   ]
  },
  {
   "cell_type": "markdown",
   "metadata": {},
   "source": [
    "8. Faça um boxplot do quartil de todas as disciplinas de ciências da\n",
    "natureza e redação. É possível enxergar outliers? Utilize o método IQR.\n"
   ]
  },
  {
   "cell_type": "code",
   "execution_count": 11,
   "metadata": {},
   "outputs": [
    {
     "data": {
      "text/plain": [
       "Text(0.5, 1.0, 'Boxplot: Redação')"
      ]
     },
     "execution_count": 11,
     "metadata": {},
     "output_type": "execute_result"
    },
    {
     "data": {
      "image/png": "[encoded data removed]",
      "text/plain": [
       "<Figure size 640x480 with 1 Axes>"
      ]
     },
     "metadata": {},
     "output_type": "display_data"
    }
   ],
   "source": [
    "plt.figure()\n",
    "sns.boxplot(data = enem_tendencias , x = \"Redação\", color='cyan',showfliers=True)\n",
    "plt.title(\"Boxplot: Redação\")"
   ]
  },
  {
   "cell_type": "code",
   "execution_count": 12,
   "metadata": {},
   "outputs": [
    {
     "data": {
      "text/plain": [
       "Text(0.5, 1.0, 'Boxplot: Ciências humanas')"
      ]
     },
     "execution_count": 12,
     "metadata": {},
     "output_type": "execute_result"
    },
    {
     "data": {
      "image/png": "[encoded data removed]",
      "text/plain": [
       "<Figure size 640x480 with 1 Axes>"
      ]
     },
     "metadata": {},
     "output_type": "display_data"
    }
   ],
   "source": [
    "plt.figure()\n",
    "sns.boxplot(data = enem_tendencias , x = \"Ciências humanas\", color='olive',showfliers=True)\n",
    "plt.title(\"Boxplot: Ciências humanas\")"
   ]
  },
  {
   "cell_type": "code",
   "execution_count": 13,
   "metadata": {},
   "outputs": [
    {
     "data": {
      "text/plain": [
       "Text(0.5, 1.0, 'Boxplot: Ciências da natureza')"
      ]
     },
     "execution_count": 13,
     "metadata": {},
     "output_type": "execute_result"
    },
    {
     "data": {
      "image/png": "[encoded data removed]",
      "text/plain": [
       "<Figure size 640x480 with 1 Axes>"
      ]
     },
     "metadata": {},
     "output_type": "display_data"
    }
   ],
   "source": [
    "plt.figure()\n",
    "sns.boxplot(data = enem_tendencias , x = \"Ciências da natureza\", color='royalblue',showfliers=True)\n",
    "plt.title(\"Boxplot: Ciências da natureza\")"
   ]
  },
  {
   "cell_type": "code",
   "execution_count": 14,
   "metadata": {},
   "outputs": [],
   "source": [
    "def find_outlier_iqr(dataset, colname):\n",
    "    q25, q75 = np.quantile(dataset[colname], 0.25), np.quantile(dataset[colname], 0.75)\n",
    "    # calcula  IQR\n",
    "    iqr = q75 - q25\n",
    "    # calcula outlier cutoff\n",
    "    cut_off = iqr * 1.5\n",
    "    # calcula margens inferiores, lower e superiores upper\n",
    "    lower, upper = q25 - cut_off, q75 + cut_off\n",
    "    print(' IQR é ',iqr)\n",
    "   # print('Valor minimo', lower)\n",
    "   # print('Valor maximo', upper)\n",
    "    outliers = []\n",
    "\n",
    "    for i in dataset[colname].values:\n",
    "      if((i > upper)or(i < lower)):\n",
    "        outliers.append(i)\n",
    "    print('O numero de outliers encontrado foi de', len(outliers))\n",
    "    return lower, upper, outliers"
   ]
  },
  {
   "cell_type": "code",
   "execution_count": 20,
   "metadata": {},
   "outputs": [
    {
     "name": "stdout",
     "output_type": "stream",
     "text": [
      " IQR é  102.26240025932503\n",
      "O numero de outliers encontrado foi de 2\n"
     ]
    },
    {
     "data": {
      "text/plain": [
       "(296.6045346095625, 705.6541356468626, [802.0045683513, 732.5029639878])"
      ]
     },
     "execution_count": 20,
     "metadata": {},
     "output_type": "execute_result"
    }
   ],
   "source": [
    "find_outlier_iqr(enem_tendencias, \"Ciências da natureza\")"
   ]
  },
  {
   "cell_type": "code",
   "execution_count": 17,
   "metadata": {},
   "outputs": [
    {
     "name": "stdout",
     "output_type": "stream",
     "text": [
      " IQR é  102.26240025932503\n",
      "O numero de outliers encontrado foi de 2\n"
     ]
    },
    {
     "data": {
      "text/plain": [
       "<Figure size 1000x600 with 0 Axes>"
      ]
     },
     "metadata": {},
     "output_type": "display_data"
    },
    {
     "data": {
      "image/png": "[encoded data removed]",
      "text/plain": [
       "<Figure size 500x500 with 1 Axes>"
      ]
     },
     "metadata": {},
     "output_type": "display_data"
    }
   ],
   "source": [
    "lower, upper, out =  find_outlier_iqr(enem_tendencias, \"Ciências da natureza\")\n",
    "if (len(out) > 0):\n",
    "   plt.figure(figsize = (10,6))\n",
    "   sns.displot(enem_tendencias[\"Ciências da natureza\"], kde=False)\n",
    "   plt.axvspan(xmin = lower,xmax= enem_tendencias[\"Ciências da natureza\"].min(),alpha=0.2, color='red')\n",
    "   plt.axvspan(xmin = upper,xmax= enem_tendencias[\"Ciências da natureza\"].max(),alpha=0.2, color='red')\n",
    "   plt.title(\"Outliers detectados em {}\".format(\"Ciências da natureza\"))"
   ]
  },
  {
   "cell_type": "code",
   "execution_count": 21,
   "metadata": {},
   "outputs": [
    {
     "name": "stdout",
     "output_type": "stream",
     "text": [
      " IQR é  108.25660959517495\n",
      "O numero de outliers encontrado foi de 3\n"
     ]
    },
    {
     "data": {
      "text/plain": [
       "(313.4737071952626, 746.5001455759624, [748.8395773643, 763.9196954613, 289.9])"
      ]
     },
     "execution_count": 21,
     "metadata": {},
     "output_type": "execute_result"
    }
   ],
   "source": [
    "find_outlier_iqr(enem_tendencias, \"Ciências humanas\")"
   ]
  },
  {
   "cell_type": "code",
   "execution_count": 18,
   "metadata": {},
   "outputs": [
    {
     "name": "stdout",
     "output_type": "stream",
     "text": [
      " IQR é  108.25660959517495\n",
      "O numero de outliers encontrado foi de 3\n"
     ]
    },
    {
     "data": {
      "text/plain": [
       "<Figure size 1000x600 with 0 Axes>"
      ]
     },
     "metadata": {},
     "output_type": "display_data"
    },
    {
     "data": {
      "image/png": "[encoded data removed]",
      "text/plain": [
       "<Figure size 500x500 with 1 Axes>"
      ]
     },
     "metadata": {},
     "output_type": "display_data"
    }
   ],
   "source": [
    "lower, upper, out =  find_outlier_iqr(enem_tendencias, \"Ciências humanas\")\n",
    "if (len(out) > 0):\n",
    "   plt.figure(figsize = (10,6))\n",
    "   sns.displot(enem_tendencias[\"Ciências da natureza\"], kde=False)\n",
    "   plt.axvspan(xmin = lower,xmax= enem_tendencias[\"Ciências humanas\"].min(),alpha=0.2, color='red')\n",
    "   plt.axvspan(xmin = upper,xmax= enem_tendencias[\"Ciências humanas\"].max(),alpha=0.2, color='red')\n",
    "   plt.title(\"Outliers detectados em {}\".format(\"Ciências humanas\"))"
   ]
  },
  {
   "cell_type": "code",
   "execution_count": 22,
   "metadata": {},
   "outputs": [
    {
     "name": "stdout",
     "output_type": "stream",
     "text": [
      " IQR é  157.02513490047488\n",
      "O numero de outliers encontrado foi de 1\n"
     ]
    },
    {
     "data": {
      "text/plain": [
       "(322.98725564181274, 951.0877952437122, [290.3086081677])"
      ]
     },
     "execution_count": 22,
     "metadata": {},
     "output_type": "execute_result"
    }
   ],
   "source": [
    "find_outlier_iqr(enem_tendencias, \"Redação\")"
   ]
  },
  {
   "cell_type": "code",
   "execution_count": 19,
   "metadata": {},
   "outputs": [
    {
     "name": "stdout",
     "output_type": "stream",
     "text": [
      " IQR é  157.02513490047488\n",
      "O numero de outliers encontrado foi de 1\n"
     ]
    },
    {
     "data": {
      "text/plain": [
       "<Figure size 1000x600 with 0 Axes>"
      ]
     },
     "metadata": {},
     "output_type": "display_data"
    },
    {
     "data": {
      "image/png": "[encoded data removed]",
      "text/plain": [
       "<Figure size 500x500 with 1 Axes>"
      ]
     },
     "metadata": {},
     "output_type": "display_data"
    }
   ],
   "source": [
    "lower, upper, out =  find_outlier_iqr(enem_tendencias, \"Redação\")\n",
    "if (len(out) > 0):\n",
    "   plt.figure(figsize = (10,6))\n",
    "   sns.displot(enem_tendencias[\"Redação\"], kde=False)\n",
    "   plt.axvspan(xmin = lower,xmax= enem_tendencias[\"Redação\"].min(),alpha=0.2, color='red')\n",
    "   plt.axvspan(xmin = upper,xmax= enem_tendencias[\"Redação\"].max(),alpha=0.2, color='red')\n",
    "   plt.title(\"Outliers detectados em {}\".format(\"Redação\"))"
   ]
  },
  {
   "cell_type": "markdown",
   "metadata": {},
   "source": [
    "9. Remova todos os outliers e verifique se eles são passíveis de alterar a\n",
    "média nacional significativamente? (considere significativamente um\n",
    "valor acima de 5%)\n",
    "R: Não, a alteração na média foi de no máximo 1%."
   ]
  },
  {
   "cell_type": "code",
   "execution_count": 101,
   "metadata": {},
   "outputs": [
    {
     "data": {
      "text/plain": [
       "Linguagens              517.467162\n",
       "Ciências humanas        528.351454\n",
       "Ciências da natureza    502.142101\n",
       "Matemática              537.172480\n",
       "Redação                 641.193123\n",
       "dtype: float64"
      ]
     },
     "execution_count": 101,
     "metadata": {},
     "output_type": "execute_result"
    }
   ],
   "source": [
    "enem_tendencias.mean()"
   ]
  },
  {
   "cell_type": "code",
   "execution_count": 97,
   "metadata": {},
   "outputs": [],
   "source": [
    "enem_outlier_redacao = enem_tendencias"
   ]
  },
  {
   "cell_type": "code",
   "execution_count": 98,
   "metadata": {},
   "outputs": [],
   "source": [
    "enem_outlier_redacao = enem_outlier_redacao[enem_outlier_redacao.Redação != 290.3086081677]"
   ]
  },
  {
   "cell_type": "code",
   "execution_count": 100,
   "metadata": {},
   "outputs": [
    {
     "data": {
      "text/plain": [
       "641.8345942404343"
      ]
     },
     "execution_count": 100,
     "metadata": {},
     "output_type": "execute_result"
    }
   ],
   "source": [
    "enem_outlier_redacao[\"Redação\"].mean()"
   ]
  },
  {
   "cell_type": "code",
   "execution_count": 102,
   "metadata": {},
   "outputs": [],
   "source": [
    "enem_outlier_natureza = enem_tendencias"
   ]
  },
  {
   "cell_type": "code",
   "execution_count": 103,
   "metadata": {},
   "outputs": [],
   "source": [
    "outliers_natureza = (802.0045683513, 732.5029639878)"
   ]
  },
  {
   "cell_type": "code",
   "execution_count": 105,
   "metadata": {},
   "outputs": [],
   "source": [
    "enem_outlier_natureza = enem_outlier_natureza[enem_outlier_natureza[\"Ciências da natureza\"].isin(outliers_natureza) == False]"
   ]
  },
  {
   "cell_type": "code",
   "execution_count": 106,
   "metadata": {},
   "outputs": [
    {
     "data": {
      "text/plain": [
       "501.17099582678804"
      ]
     },
     "execution_count": 106,
     "metadata": {},
     "output_type": "execute_result"
    }
   ],
   "source": [
    "enem_outlier_natureza[\"Ciências da natureza\"].mean()"
   ]
  },
  {
   "cell_type": "code",
   "execution_count": 110,
   "metadata": {},
   "outputs": [],
   "source": [
    "enem_outlier_humanas = enem_tendencias"
   ]
  },
  {
   "cell_type": "code",
   "execution_count": 111,
   "metadata": {},
   "outputs": [],
   "source": [
    "outliers_humanas = [748.8395773643, 763.9196954613, 289.9]"
   ]
  },
  {
   "cell_type": "code",
   "execution_count": 113,
   "metadata": {},
   "outputs": [],
   "source": [
    "enem_outlier_humanas = enem_outlier_humanas[enem_outlier_humanas[\"Ciências humanas\"].isin(outliers_humanas) == False]"
   ]
  },
  {
   "cell_type": "code",
   "execution_count": 114,
   "metadata": {},
   "outputs": [
    {
     "data": {
      "text/plain": [
       "527.9521791510007"
      ]
     },
     "execution_count": 114,
     "metadata": {},
     "output_type": "execute_result"
    }
   ],
   "source": [
    "enem_outlier_humanas[\"Ciências humanas\"].mean()"
   ]
  },
  {
   "cell_type": "code",
   "execution_count": 136,
   "metadata": {},
   "outputs": [],
   "source": [
    "def porcentagem_diferenca(val1, val2):\n",
    "    diferenca = abs(val1 - val2)\n",
    "    media = (val1 + val2) / 2\n",
    "    porcentagem = diferenca / media * 100\n",
    "    return print(f\"A diferença dos dois valores é de aproximadamente {porcentagem:.4f}%.\")"
   ]
  },
  {
   "cell_type": "code",
   "execution_count": 137,
   "metadata": {},
   "outputs": [
    {
     "name": "stdout",
     "output_type": "stream",
     "text": [
      "A diferença dos dois valores é de aproximadamente 0.1000%.\n"
     ]
    }
   ],
   "source": [
    "porcentagem_diferenca(enem_tendencias[\"Redação\"].mean(), enem_outlier_redacao[\"Redação\"].mean())"
   ]
  },
  {
   "cell_type": "code",
   "execution_count": 138,
   "metadata": {},
   "outputs": [
    {
     "name": "stdout",
     "output_type": "stream",
     "text": [
      "A diferença dos dois valores é de aproximadamente 0.0233%.\n"
     ]
    }
   ],
   "source": [
    "porcentagem_diferenca(enem_tendencias[\"Ciências da natureza\"].mean(), enem_outlier_redacao[\"Ciências da natureza\"].mean())"
   ]
  },
  {
   "cell_type": "code",
   "execution_count": 139,
   "metadata": {},
   "outputs": [
    {
     "name": "stdout",
     "output_type": "stream",
     "text": [
      "A diferença dos dois valores é de aproximadamente 0.0114%.\n"
     ]
    }
   ],
   "source": [
    "porcentagem_diferenca(enem_tendencias[\"Ciências humanas\"].mean(), enem_outlier_redacao[\"Ciências humanas\"].mean())"
   ]
  },
  {
   "cell_type": "markdown",
   "metadata": {},
   "source": [
    "10. Considerando valores nulos, tente encontrar qual seria a melhor medida\n",
    "de tendência que pode substituir as notas nulas. Média, moda ou\n",
    "mediana? Substitua o valor por todos os três e diga qual delas altera\n",
    "menos a média geral e o desvio padrão\n",
    "\n",
    "R: A substituição pela média não altera a média geral"
   ]
  },
  {
   "cell_type": "code",
   "execution_count": 159,
   "metadata": {},
   "outputs": [
    {
     "data": {
      "text/plain": [
       "Linguagens              514.524809\n",
       "Ciências humanas        527.042281\n",
       "Ciências da natureza    499.315583\n",
       "Matemática              535.965660\n",
       "Redação                 637.783532\n",
       "dtype: float64"
      ]
     },
     "execution_count": 159,
     "metadata": {},
     "output_type": "execute_result"
    }
   ],
   "source": [
    "enem_json.mean(numeric_only=True)"
   ]
  },
  {
   "cell_type": "code",
   "execution_count": 254,
   "metadata": {},
   "outputs": [],
   "source": [
    "def substituicao_media(database):\n",
    "    for coluna in database.columns:\n",
    "        media = database[coluna].mean()\n",
    "        database.head()\n",
    "        database[coluna] = database[coluna].fillna(media)\n",
    "    return database.mean()"
   ]
  },
  {
   "cell_type": "code",
   "execution_count": 257,
   "metadata": {},
   "outputs": [],
   "source": [
    "def substituicao_mediana(database):\n",
    "    for coluna in database.columns:\n",
    "        mediana = database[coluna].median()\n",
    "        database[coluna] = database[coluna].fillna(mediana)\n",
    "    return database.mean()"
   ]
  },
  {
   "cell_type": "code",
   "execution_count": 268,
   "metadata": {},
   "outputs": [],
   "source": [
    "def substituicao_moda(database):\n",
    "    for coluna in database.columns:\n",
    "        moda = database[coluna].mode()[0]\n",
    "        database[coluna] = database[coluna].fillna(moda)\n",
    "    return database.mean()"
   ]
  },
  {
   "cell_type": "code",
   "execution_count": 252,
   "metadata": {},
   "outputs": [],
   "source": [
    "enem_substituicao_medias = enem_json.drop(columns=[\"Sexo\"])"
   ]
  },
  {
   "cell_type": "code",
   "execution_count": 260,
   "metadata": {},
   "outputs": [],
   "source": [
    "enem_substituicao_mediana = enem_json.drop(columns=[\"Sexo\"])"
   ]
  },
  {
   "cell_type": "code",
   "execution_count": 269,
   "metadata": {},
   "outputs": [],
   "source": [
    "enem_substituicao_moda = enem_json.drop(columns=[\"Sexo\"])"
   ]
  },
  {
   "cell_type": "code",
   "execution_count": 255,
   "metadata": {},
   "outputs": [
    {
     "data": {
      "text/plain": [
       "Linguagens              514.524809\n",
       "Ciências humanas        527.042281\n",
       "Ciências da natureza    499.315583\n",
       "Matemática              535.965660\n",
       "Redação                 637.783532\n",
       "dtype: float64"
      ]
     },
     "execution_count": 255,
     "metadata": {},
     "output_type": "execute_result"
    }
   ],
   "source": [
    "substituicao_media(enem_substituicao_medias)"
   ]
  },
  {
   "cell_type": "code",
   "execution_count": 261,
   "metadata": {},
   "outputs": [
    {
     "data": {
      "text/plain": [
       "Linguagens              514.578415\n",
       "Ciências humanas        526.880850\n",
       "Ciências da natureza    499.520391\n",
       "Matemática              535.759100\n",
       "Redação                 637.432194\n",
       "dtype: float64"
      ]
     },
     "execution_count": 261,
     "metadata": {},
     "output_type": "execute_result"
    }
   ],
   "source": [
    "substituicao_mediana(enem_substituicao_mediana)"
   ]
  },
  {
   "cell_type": "code",
   "execution_count": 270,
   "metadata": {},
   "outputs": [
    {
     "data": {
      "text/plain": [
       "Linguagens              491.089754\n",
       "Ciências humanas        511.865175\n",
       "Ciências da natureza    466.770440\n",
       "Matemática              519.537070\n",
       "Redação                 586.411433\n",
       "dtype: float64"
      ]
     },
     "execution_count": 270,
     "metadata": {},
     "output_type": "execute_result"
    }
   ],
   "source": [
    "substituicao_moda(enem_substituicao_moda)"
   ]
  },
  {
   "cell_type": "code",
   "execution_count": 235,
   "metadata": {},
   "outputs": [
    {
     "data": {
      "text/html": [
       "<div>\n",
       "<style scoped>\n",
       "    .dataframe tbody tr th:only-of-type {\n",
       "        vertical-align: middle;\n",
       "    }\n",
       "\n",
       "    .dataframe tbody tr th {\n",
       "        vertical-align: top;\n",
       "    }\n",
       "\n",
       "    .dataframe thead th {\n",
       "        text-align: right;\n",
       "    }\n",
       "</style>\n",
       "<table border=\"1\" class=\"dataframe\">\n",
       "  <thead>\n",
       "    <tr style=\"text-align: right;\">\n",
       "      <th></th>\n",
       "      <th>Linguagens</th>\n",
       "      <th>Ciências humanas</th>\n",
       "      <th>Ciências da natureza</th>\n",
       "      <th>Matemática</th>\n",
       "      <th>Redação</th>\n",
       "      <th>Sexo</th>\n",
       "    </tr>\n",
       "  </thead>\n",
       "  <tbody>\n",
       "    <tr>\n",
       "      <th>0</th>\n",
       "      <td>585.669300</td>\n",
       "      <td>686.512178</td>\n",
       "      <td>390.482473</td>\n",
       "      <td>452.281333</td>\n",
       "      <td>546.371706</td>\n",
       "      <td>Homem</td>\n",
       "    </tr>\n",
       "    <tr>\n",
       "      <th>1</th>\n",
       "      <td>359.384608</td>\n",
       "      <td>642.084134</td>\n",
       "      <td>NaN</td>\n",
       "      <td>412.205207</td>\n",
       "      <td>741.825256</td>\n",
       "      <td>Mulher</td>\n",
       "    </tr>\n",
       "    <tr>\n",
       "      <th>2</th>\n",
       "      <td>622.732384</td>\n",
       "      <td>495.510719</td>\n",
       "      <td>443.183580</td>\n",
       "      <td>669.683401</td>\n",
       "      <td>684.515750</td>\n",
       "      <td>Homem</td>\n",
       "    </tr>\n",
       "    <tr>\n",
       "      <th>3</th>\n",
       "      <td>350.164605</td>\n",
       "      <td>602.041588</td>\n",
       "      <td>413.979810</td>\n",
       "      <td>676.608952</td>\n",
       "      <td>671.237114</td>\n",
       "      <td>Homem</td>\n",
       "    </tr>\n",
       "    <tr>\n",
       "      <th>4</th>\n",
       "      <td>384.093657</td>\n",
       "      <td>489.249140</td>\n",
       "      <td>609.758123</td>\n",
       "      <td>520.426698</td>\n",
       "      <td>744.375048</td>\n",
       "      <td>Homem</td>\n",
       "    </tr>\n",
       "  </tbody>\n",
       "</table>\n",
       "</div>"
      ],
      "text/plain": [
       "   Linguagens  Ciências humanas  Ciências da natureza  Matemática     Redação  \\\n",
       "0  585.669300        686.512178            390.482473  452.281333  546.371706   \n",
       "1  359.384608        642.084134                   NaN  412.205207  741.825256   \n",
       "2  622.732384        495.510719            443.183580  669.683401  684.515750   \n",
       "3  350.164605        602.041588            413.979810  676.608952  671.237114   \n",
       "4  384.093657        489.249140            609.758123  520.426698  744.375048   \n",
       "\n",
       "     Sexo  \n",
       "0   Homem  \n",
       "1  Mulher  \n",
       "2   Homem  \n",
       "3   Homem  \n",
       "4   Homem  "
      ]
     },
     "execution_count": 235,
     "metadata": {},
     "output_type": "execute_result"
    }
   ],
   "source": [
    "enem_json.head()"
   ]
  },
  {
   "cell_type": "code",
   "execution_count": 271,
   "metadata": {},
   "outputs": [
    {
     "data": {
      "text/html": [
       "<div>\n",
       "<style scoped>\n",
       "    .dataframe tbody tr th:only-of-type {\n",
       "        vertical-align: middle;\n",
       "    }\n",
       "\n",
       "    .dataframe tbody tr th {\n",
       "        vertical-align: top;\n",
       "    }\n",
       "\n",
       "    .dataframe thead th {\n",
       "        text-align: right;\n",
       "    }\n",
       "</style>\n",
       "<table border=\"1\" class=\"dataframe\">\n",
       "  <thead>\n",
       "    <tr style=\"text-align: right;\">\n",
       "      <th></th>\n",
       "      <th>Linguagens</th>\n",
       "      <th>Ciências humanas</th>\n",
       "      <th>Ciências da natureza</th>\n",
       "      <th>Matemática</th>\n",
       "      <th>Redação</th>\n",
       "    </tr>\n",
       "  </thead>\n",
       "  <tbody>\n",
       "    <tr>\n",
       "      <th>0</th>\n",
       "      <td>585.669300</td>\n",
       "      <td>686.512178</td>\n",
       "      <td>390.482473</td>\n",
       "      <td>452.281333</td>\n",
       "      <td>546.371706</td>\n",
       "    </tr>\n",
       "    <tr>\n",
       "      <th>1</th>\n",
       "      <td>359.384608</td>\n",
       "      <td>642.084134</td>\n",
       "      <td>499.315583</td>\n",
       "      <td>412.205207</td>\n",
       "      <td>741.825256</td>\n",
       "    </tr>\n",
       "    <tr>\n",
       "      <th>2</th>\n",
       "      <td>622.732384</td>\n",
       "      <td>495.510719</td>\n",
       "      <td>443.183580</td>\n",
       "      <td>669.683401</td>\n",
       "      <td>684.515750</td>\n",
       "    </tr>\n",
       "    <tr>\n",
       "      <th>3</th>\n",
       "      <td>350.164605</td>\n",
       "      <td>602.041588</td>\n",
       "      <td>413.979810</td>\n",
       "      <td>676.608952</td>\n",
       "      <td>671.237114</td>\n",
       "    </tr>\n",
       "    <tr>\n",
       "      <th>4</th>\n",
       "      <td>384.093657</td>\n",
       "      <td>489.249140</td>\n",
       "      <td>609.758123</td>\n",
       "      <td>520.426698</td>\n",
       "      <td>744.375048</td>\n",
       "    </tr>\n",
       "  </tbody>\n",
       "</table>\n",
       "</div>"
      ],
      "text/plain": [
       "   Linguagens  Ciências humanas  Ciências da natureza  Matemática     Redação\n",
       "0  585.669300        686.512178            390.482473  452.281333  546.371706\n",
       "1  359.384608        642.084134            499.315583  412.205207  741.825256\n",
       "2  622.732384        495.510719            443.183580  669.683401  684.515750\n",
       "3  350.164605        602.041588            413.979810  676.608952  671.237114\n",
       "4  384.093657        489.249140            609.758123  520.426698  744.375048"
      ]
     },
     "execution_count": 271,
     "metadata": {},
     "output_type": "execute_result"
    }
   ],
   "source": [
    "enem_substituicao_medias.head()"
   ]
  },
  {
   "cell_type": "code",
   "execution_count": 272,
   "metadata": {},
   "outputs": [
    {
     "data": {
      "text/html": [
       "<div>\n",
       "<style scoped>\n",
       "    .dataframe tbody tr th:only-of-type {\n",
       "        vertical-align: middle;\n",
       "    }\n",
       "\n",
       "    .dataframe tbody tr th {\n",
       "        vertical-align: top;\n",
       "    }\n",
       "\n",
       "    .dataframe thead th {\n",
       "        text-align: right;\n",
       "    }\n",
       "</style>\n",
       "<table border=\"1\" class=\"dataframe\">\n",
       "  <thead>\n",
       "    <tr style=\"text-align: right;\">\n",
       "      <th></th>\n",
       "      <th>Linguagens</th>\n",
       "      <th>Ciências humanas</th>\n",
       "      <th>Ciências da natureza</th>\n",
       "      <th>Matemática</th>\n",
       "      <th>Redação</th>\n",
       "    </tr>\n",
       "  </thead>\n",
       "  <tbody>\n",
       "    <tr>\n",
       "      <th>0</th>\n",
       "      <td>585.669300</td>\n",
       "      <td>686.512178</td>\n",
       "      <td>390.482473</td>\n",
       "      <td>452.281333</td>\n",
       "      <td>546.371706</td>\n",
       "    </tr>\n",
       "    <tr>\n",
       "      <th>1</th>\n",
       "      <td>359.384608</td>\n",
       "      <td>642.084134</td>\n",
       "      <td>500.479263</td>\n",
       "      <td>412.205207</td>\n",
       "      <td>741.825256</td>\n",
       "    </tr>\n",
       "    <tr>\n",
       "      <th>2</th>\n",
       "      <td>622.732384</td>\n",
       "      <td>495.510719</td>\n",
       "      <td>443.183580</td>\n",
       "      <td>669.683401</td>\n",
       "      <td>684.515750</td>\n",
       "    </tr>\n",
       "    <tr>\n",
       "      <th>3</th>\n",
       "      <td>350.164605</td>\n",
       "      <td>602.041588</td>\n",
       "      <td>413.979810</td>\n",
       "      <td>676.608952</td>\n",
       "      <td>671.237114</td>\n",
       "    </tr>\n",
       "    <tr>\n",
       "      <th>4</th>\n",
       "      <td>384.093657</td>\n",
       "      <td>489.249140</td>\n",
       "      <td>609.758123</td>\n",
       "      <td>520.426698</td>\n",
       "      <td>744.375048</td>\n",
       "    </tr>\n",
       "  </tbody>\n",
       "</table>\n",
       "</div>"
      ],
      "text/plain": [
       "   Linguagens  Ciências humanas  Ciências da natureza  Matemática     Redação\n",
       "0  585.669300        686.512178            390.482473  452.281333  546.371706\n",
       "1  359.384608        642.084134            500.479263  412.205207  741.825256\n",
       "2  622.732384        495.510719            443.183580  669.683401  684.515750\n",
       "3  350.164605        602.041588            413.979810  676.608952  671.237114\n",
       "4  384.093657        489.249140            609.758123  520.426698  744.375048"
      ]
     },
     "execution_count": 272,
     "metadata": {},
     "output_type": "execute_result"
    }
   ],
   "source": [
    "enem_substituicao_mediana.head()"
   ]
  },
  {
   "cell_type": "code",
   "execution_count": 273,
   "metadata": {},
   "outputs": [
    {
     "data": {
      "text/html": [
       "<div>\n",
       "<style scoped>\n",
       "    .dataframe tbody tr th:only-of-type {\n",
       "        vertical-align: middle;\n",
       "    }\n",
       "\n",
       "    .dataframe tbody tr th {\n",
       "        vertical-align: top;\n",
       "    }\n",
       "\n",
       "    .dataframe thead th {\n",
       "        text-align: right;\n",
       "    }\n",
       "</style>\n",
       "<table border=\"1\" class=\"dataframe\">\n",
       "  <thead>\n",
       "    <tr style=\"text-align: right;\">\n",
       "      <th></th>\n",
       "      <th>Linguagens</th>\n",
       "      <th>Ciências humanas</th>\n",
       "      <th>Ciências da natureza</th>\n",
       "      <th>Matemática</th>\n",
       "      <th>Redação</th>\n",
       "    </tr>\n",
       "  </thead>\n",
       "  <tbody>\n",
       "    <tr>\n",
       "      <th>0</th>\n",
       "      <td>585.669300</td>\n",
       "      <td>686.512178</td>\n",
       "      <td>390.482473</td>\n",
       "      <td>452.281333</td>\n",
       "      <td>546.371706</td>\n",
       "    </tr>\n",
       "    <tr>\n",
       "      <th>1</th>\n",
       "      <td>359.384608</td>\n",
       "      <td>642.084134</td>\n",
       "      <td>314.400000</td>\n",
       "      <td>412.205207</td>\n",
       "      <td>741.825256</td>\n",
       "    </tr>\n",
       "    <tr>\n",
       "      <th>2</th>\n",
       "      <td>622.732384</td>\n",
       "      <td>495.510719</td>\n",
       "      <td>443.183580</td>\n",
       "      <td>669.683401</td>\n",
       "      <td>684.515750</td>\n",
       "    </tr>\n",
       "    <tr>\n",
       "      <th>3</th>\n",
       "      <td>350.164605</td>\n",
       "      <td>602.041588</td>\n",
       "      <td>413.979810</td>\n",
       "      <td>676.608952</td>\n",
       "      <td>671.237114</td>\n",
       "    </tr>\n",
       "    <tr>\n",
       "      <th>4</th>\n",
       "      <td>384.093657</td>\n",
       "      <td>489.249140</td>\n",
       "      <td>609.758123</td>\n",
       "      <td>520.426698</td>\n",
       "      <td>744.375048</td>\n",
       "    </tr>\n",
       "  </tbody>\n",
       "</table>\n",
       "</div>"
      ],
      "text/plain": [
       "   Linguagens  Ciências humanas  Ciências da natureza  Matemática     Redação\n",
       "0  585.669300        686.512178            390.482473  452.281333  546.371706\n",
       "1  359.384608        642.084134            314.400000  412.205207  741.825256\n",
       "2  622.732384        495.510719            443.183580  669.683401  684.515750\n",
       "3  350.164605        602.041588            413.979810  676.608952  671.237114\n",
       "4  384.093657        489.249140            609.758123  520.426698  744.375048"
      ]
     },
     "execution_count": 273,
     "metadata": {},
     "output_type": "execute_result"
    }
   ],
   "source": [
    "enem_substituicao_moda.head()"
   ]
  },
  {
   "cell_type": "code",
   "execution_count": 274,
   "metadata": {},
   "outputs": [],
   "source": [
    "def porcentagem_diferenca_colunas(database1, database2):\n",
    "    for coluna in database1.columns:\n",
    "        diferenca = abs(database1[coluna].mean() - database2[coluna].mean())\n",
    "        media = (database1[coluna].mean() + database2[coluna].mean()) / 2\n",
    "        porcentagem = diferenca / media * 100\n",
    "        print(f\"A diferença da média das duas colunas é de aproximadamente {porcentagem:.4f}%.\")\n",
    "    return "
   ]
  },
  {
   "cell_type": "code",
   "execution_count": 275,
   "metadata": {},
   "outputs": [
    {
     "name": "stdout",
     "output_type": "stream",
     "text": [
      "A diferença da média das duas colunas é de aproximadamente 0.0000%.\n",
      "A diferença da média das duas colunas é de aproximadamente 0.0000%.\n",
      "A diferença da média das duas colunas é de aproximadamente 0.0000%.\n",
      "A diferença da média das duas colunas é de aproximadamente 0.0000%.\n",
      "A diferença da média das duas colunas é de aproximadamente 0.0000%.\n"
     ]
    }
   ],
   "source": [
    "porcentagem_diferenca_colunas(enem_substituicao_medias, enem_json)"
   ]
  },
  {
   "cell_type": "code",
   "execution_count": 277,
   "metadata": {},
   "outputs": [
    {
     "name": "stdout",
     "output_type": "stream",
     "text": [
      "A diferença da média das duas colunas é de aproximadamente 0.0104%.\n",
      "A diferença da média das duas colunas é de aproximadamente 0.0306%.\n",
      "A diferença da média das duas colunas é de aproximadamente 0.0410%.\n",
      "A diferença da média das duas colunas é de aproximadamente 0.0385%.\n",
      "A diferença da média das duas colunas é de aproximadamente 0.0551%.\n"
     ]
    }
   ],
   "source": [
    "porcentagem_diferenca_colunas(enem_substituicao_mediana, enem_json)"
   ]
  },
  {
   "cell_type": "code",
   "execution_count": 278,
   "metadata": {},
   "outputs": [
    {
     "name": "stdout",
     "output_type": "stream",
     "text": [
      "A diferença da média das duas colunas é de aproximadamente 4.6608%.\n",
      "A diferença da média das duas colunas é de aproximadamente 2.9217%.\n",
      "A diferença da média das duas colunas é de aproximadamente 6.7375%.\n",
      "A diferença da média das duas colunas é de aproximadamente 3.1129%.\n",
      "A diferença da média das duas colunas é de aproximadamente 8.3928%.\n"
     ]
    }
   ],
   "source": [
    "porcentagem_diferenca_colunas(enem_substituicao_moda, enem_json)"
   ]
  },
  {
   "cell_type": "code",
   "execution_count": null,
   "metadata": {},
   "outputs": [],
   "source": []
  }
 ],
 "metadata": {
  "kernelspec": {
   "display_name": "Python 3",
   "language": "python",
   "name": "python3"
  },
  "language_info": {
   "codemirror_mode": {
    "name": "ipython",
    "version": 3
   },
   "file_extension": ".py",
   "mimetype": "text/x-python",
   "name": "python",
   "nbconvert_exporter": "python",
   "pygments_lexer": "ipython3",
   "version": "3.12.0"
  },
  "polyglot_notebook": {
   "kernelInfo": {
    "defaultKernelName": "csharp",
    "items": [
     {
      "aliases": [],
      "name": "csharp"
     }
    ]
   }
  }
 },
 "nbformat": 4,
 "nbformat_minor": 2
}
